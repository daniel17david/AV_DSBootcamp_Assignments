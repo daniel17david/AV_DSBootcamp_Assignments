{
  "nbformat": 4,
  "nbformat_minor": 0,
  "metadata": {
    "kernelspec": {
      "display_name": "Python 3",
      "language": "python",
      "name": "python3"
    },
    "language_info": {
      "codemirror_mode": {
        "name": "ipython",
        "version": 3
      },
      "file_extension": ".py",
      "mimetype": "text/x-python",
      "name": "python",
      "nbconvert_exporter": "python",
      "pygments_lexer": "ipython3",
      "version": "3.7.4"
    },
    "colab": {
      "name": "DanielThommana_Python_assgn3.ipynb",
      "provenance": [],
      "collapsed_sections": []
    }
  },
  "cells": [
    {
      "cell_type": "markdown",
      "metadata": {
        "id": "IXtmZdRx9APf"
      },
      "source": [
        "### Q1) Write a function to multiply all the numbers in a list."
      ]
    },
    {
      "cell_type": "code",
      "metadata": {
        "id": "IU4trPh09APf"
      },
      "source": [
        "\n",
        " \n",
        "def multiply(*args) :\n",
        "     \n",
        "\n",
        "    result = 1\n",
        "    for x in args:\n",
        "         result = result * x\n",
        "    return result\n",
        "     \n",
        "\n",
        "\n"
      ],
      "execution_count": 1,
      "outputs": []
    },
    {
      "cell_type": "code",
      "metadata": {
        "colab": {
          "base_uri": "https://localhost:8080/"
        },
        "id": "NCBpafN49APg",
        "outputId": "82df4258-c794-4f3b-e13b-60858944642d"
      },
      "source": [
        "multiply(1,2,3,4,5)"
      ],
      "execution_count": 2,
      "outputs": [
        {
          "output_type": "execute_result",
          "data": {
            "text/plain": [
              "120"
            ]
          },
          "metadata": {
            "tags": []
          },
          "execution_count": 2
        }
      ]
    },
    {
      "cell_type": "markdown",
      "metadata": {
        "id": "9uxHMwYS9APg"
      },
      "source": [
        "### Q2) Write a Python function to calculate the factorial of a number (a non-negative integer). The function accepts the number as an argument.\n",
        "\n",
        "\n"
      ]
    },
    {
      "cell_type": "code",
      "metadata": {
        "colab": {
          "base_uri": "https://localhost:8080/"
        },
        "id": "kY_Ckrkw9APg",
        "outputId": "1fb17335-6f0d-4a11-b7e1-fa7393db5b6c"
      },
      "source": [
        "def factorial(n):\n",
        "    if n == 0:\n",
        "        return 1\n",
        "    else:\n",
        "        return n * factorial(n-1)\n",
        "n=int(input(\"Enter num : \"))\n",
        "print(factorial(n))"
      ],
      "execution_count": 3,
      "outputs": [
        {
          "output_type": "stream",
          "text": [
            "Enter num : 6\n",
            "720\n"
          ],
          "name": "stdout"
        }
      ]
    },
    {
      "cell_type": "markdown",
      "metadata": {
        "id": "UVlIYASU9APh"
      },
      "source": [
        "### Q3) Write a Python function that accepts a string and calculate the number of upper case letters and lower case letters.\n",
        "\n",
        "\n"
      ]
    },
    {
      "cell_type": "code",
      "metadata": {
        "colab": {
          "base_uri": "https://localhost:8080/"
        },
        "id": "f7ueMpgG9APh",
        "outputId": "c31a7418-e0c9-41a9-852f-2be25a494c60"
      },
      "source": [
        "string=input(\"Enter string:\")\n",
        "lcasecount=0\n",
        "ucasecount=0\n",
        "for i in string:\n",
        "      if(i.islower()):\n",
        "            lcasecount=lcasecount+1\n",
        "      elif(i.isupper()):\n",
        "            ucasecount=ucasecount+1\n",
        "print(\"The number of lowercase characters is:\")\n",
        "print(lcasecount)\n",
        "print(\"The number of uppercase characters is:\")\n",
        "print(ucasecount)"
      ],
      "execution_count": 4,
      "outputs": [
        {
          "output_type": "stream",
          "text": [
            "Enter string:Daniel David Thommana\n",
            "The number of lowercase characters is:\n",
            "16\n",
            "The number of uppercase characters is:\n",
            "3\n"
          ],
          "name": "stdout"
        }
      ]
    },
    {
      "cell_type": "markdown",
      "metadata": {
        "id": "bqaNwS1u9APi"
      },
      "source": [
        "### Q4) Write a Python function that takes a list and returns a new list with unique elements of the first list.\n",
        "\n",
        "\n",
        "\n"
      ]
    },
    {
      "cell_type": "code",
      "metadata": {
        "id": "uzSpw4Dl9APi",
        "colab": {
          "base_uri": "https://localhost:8080/"
        },
        "outputId": "bdaf066e-cd29-4fd4-8b6a-99e3b4e0e78d"
      },
      "source": [
        "def unique_elements(mylist):\n",
        "  x = []\n",
        "  for a in mylist:\n",
        "    if a not in x:\n",
        "      x.append(a)\n",
        "  return x\n",
        "\n",
        "print(unique_elements([1,2,2,3,3,3,3,4,5,5,5,6,6,\"daniel\",\"dan\",\"daniel\"])) "
      ],
      "execution_count": 5,
      "outputs": [
        {
          "output_type": "stream",
          "text": [
            "[1, 2, 3, 4, 5, 6, 'daniel', 'dan']\n"
          ],
          "name": "stdout"
        }
      ]
    },
    {
      "cell_type": "markdown",
      "metadata": {
        "id": "SaFWGwpo9APi"
      },
      "source": [
        "### Q5) Write a Python program to print the even numbers from a given list.\n",
        "\n",
        "\n"
      ]
    },
    {
      "cell_type": "code",
      "metadata": {
        "colab": {
          "base_uri": "https://localhost:8080/"
        },
        "id": "Ew8DUb9q9APj",
        "outputId": "fb8a158b-e101-4733-8652-704815d4855f"
      },
      "source": [
        "numlist = [1,2,3,4,5,6,7,8,9,10,11,12] \n",
        "  \n",
        "  \n",
        "# we can also print even no's using lambda exp. \n",
        "even_nums = list(filter(lambda x: (x % 2 == 0), numlist))\n",
        "  \n",
        "print(\"Even numbers in the list: \", even_nums) "
      ],
      "execution_count": 6,
      "outputs": [
        {
          "output_type": "stream",
          "text": [
            "Even numbers in the list:  [2, 4, 6, 8, 10, 12]\n"
          ],
          "name": "stdout"
        }
      ]
    },
    {
      "cell_type": "markdown",
      "metadata": {
        "id": "jnad1srk9APj"
      },
      "source": [
        "### Q6) Write a function to remove all duplicates from a given string.\n",
        "\n",
        "\n"
      ]
    },
    {
      "cell_type": "code",
      "metadata": {
        "id": "-UTGJG1U9APj",
        "colab": {
          "base_uri": "https://localhost:8080/"
        },
        "outputId": "38bf1aec-bd1a-4063-b2e8-6701411fff9f"
      },
      "source": [
        "from collections import OrderedDict\n",
        "def remove_duplicate(str1):\n",
        "  return \"\".join(OrderedDict.fromkeys(str1))\n",
        "\n",
        "s=  \"danieldavidthommana\"  \n",
        "print(s) \n",
        "print(\"After removing duplicates: \",remove_duplicate(s))\n"
      ],
      "execution_count": 8,
      "outputs": [
        {
          "output_type": "stream",
          "text": [
            "danieldavidthommana\n",
            "After removing duplicates:  danielvthom\n"
          ],
          "name": "stdout"
        }
      ]
    }
  ]
}
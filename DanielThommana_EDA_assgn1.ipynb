{
  "nbformat": 4,
  "nbformat_minor": 0,
  "metadata": {
    "kernelspec": {
      "display_name": "Python 3",
      "language": "python",
      "name": "python3"
    },
    "language_info": {
      "codemirror_mode": {
        "name": "ipython",
        "version": 3
      },
      "file_extension": ".py",
      "mimetype": "text/x-python",
      "name": "python",
      "nbconvert_exporter": "python",
      "pygments_lexer": "ipython3",
      "version": "3.7.4"
    },
    "colab": {
      "name": "DanielThommana_Python_assgn6.ipynb",
      "provenance": [],
      "collapsed_sections": []
    }
  },
  "cells": [
    {
      "cell_type": "code",
      "metadata": {
        "id": "TsPpY-1Y3-3A"
      },
      "source": [
        "import pandas as pd"
      ],
      "execution_count": 64,
      "outputs": []
    },
    {
      "cell_type": "code",
      "metadata": {
        "colab": {
          "base_uri": "https://localhost:8080/",
          "height": 203
        },
        "id": "k1z-qrL03-3A",
        "outputId": "018c2ab8-c1a0-4fd5-f519-7eb6b8075813"
      },
      "source": [
        "\n",
        "# Load and view first few lines of dataset\n",
        "df = pd.read_csv('admission_data.csv')\n",
        "df.head()"
      ],
      "execution_count": 65,
      "outputs": [
        {
          "output_type": "execute_result",
          "data": {
            "text/html": [
              "<div>\n",
              "<style scoped>\n",
              "    .dataframe tbody tr th:only-of-type {\n",
              "        vertical-align: middle;\n",
              "    }\n",
              "\n",
              "    .dataframe tbody tr th {\n",
              "        vertical-align: top;\n",
              "    }\n",
              "\n",
              "    .dataframe thead th {\n",
              "        text-align: right;\n",
              "    }\n",
              "</style>\n",
              "<table border=\"1\" class=\"dataframe\">\n",
              "  <thead>\n",
              "    <tr style=\"text-align: right;\">\n",
              "      <th></th>\n",
              "      <th>student_id</th>\n",
              "      <th>gender</th>\n",
              "      <th>major</th>\n",
              "      <th>admitted</th>\n",
              "    </tr>\n",
              "  </thead>\n",
              "  <tbody>\n",
              "    <tr>\n",
              "      <th>0</th>\n",
              "      <td>35377</td>\n",
              "      <td>female</td>\n",
              "      <td>Chemistry</td>\n",
              "      <td>False</td>\n",
              "    </tr>\n",
              "    <tr>\n",
              "      <th>1</th>\n",
              "      <td>56105</td>\n",
              "      <td>male</td>\n",
              "      <td>Physics</td>\n",
              "      <td>True</td>\n",
              "    </tr>\n",
              "    <tr>\n",
              "      <th>2</th>\n",
              "      <td>31441</td>\n",
              "      <td>female</td>\n",
              "      <td>Chemistry</td>\n",
              "      <td>False</td>\n",
              "    </tr>\n",
              "    <tr>\n",
              "      <th>3</th>\n",
              "      <td>51765</td>\n",
              "      <td>male</td>\n",
              "      <td>Physics</td>\n",
              "      <td>True</td>\n",
              "    </tr>\n",
              "    <tr>\n",
              "      <th>4</th>\n",
              "      <td>53714</td>\n",
              "      <td>female</td>\n",
              "      <td>Physics</td>\n",
              "      <td>True</td>\n",
              "    </tr>\n",
              "  </tbody>\n",
              "</table>\n",
              "</div>"
            ],
            "text/plain": [
              "   student_id  gender      major  admitted\n",
              "0       35377  female  Chemistry     False\n",
              "1       56105    male    Physics      True\n",
              "2       31441  female  Chemistry     False\n",
              "3       51765    male    Physics      True\n",
              "4       53714  female    Physics      True"
            ]
          },
          "metadata": {
            "tags": []
          },
          "execution_count": 65
        }
      ]
    },
    {
      "cell_type": "code",
      "metadata": {
        "colab": {
          "base_uri": "https://localhost:8080/"
        },
        "id": "-jfEUSqm3-3B",
        "outputId": "075d6f5d-2c86-4251-c5bf-c16bf2d87951"
      },
      "source": [
        "df.info()"
      ],
      "execution_count": 66,
      "outputs": [
        {
          "output_type": "stream",
          "text": [
            "<class 'pandas.core.frame.DataFrame'>\n",
            "RangeIndex: 500 entries, 0 to 499\n",
            "Data columns (total 4 columns):\n",
            " #   Column      Non-Null Count  Dtype \n",
            "---  ------      --------------  ----- \n",
            " 0   student_id  500 non-null    int64 \n",
            " 1   gender      500 non-null    object\n",
            " 2   major       500 non-null    object\n",
            " 3   admitted    500 non-null    bool  \n",
            "dtypes: bool(1), int64(1), object(2)\n",
            "memory usage: 12.3+ KB\n"
          ],
          "name": "stdout"
        }
      ]
    },
    {
      "cell_type": "markdown",
      "metadata": {
        "id": "azJtvkBK3-3B"
      },
      "source": [
        "### 1. Find out the following :-\n",
        "* Proportion and admission rate for each gender.\n",
        "* Proportion and admission rate for physics majors of each gender.\n",
        "* Proportion and admission rate for chemistry majors of each gender.\n",
        "* Admission rate for each major."
      ]
    },
    {
      "cell_type": "code",
      "metadata": {
        "colab": {
          "base_uri": "https://localhost:8080/",
          "height": 326
        },
        "id": "9Z0vwoOI6H0C",
        "outputId": "764f00e0-a19a-422b-c98b-e7d5138aee4a"
      },
      "source": [
        "df.groupby(by=['gender', 'major','admitted']).agg(['count'])[\"student_id\"]"
      ],
      "execution_count": 67,
      "outputs": [
        {
          "output_type": "execute_result",
          "data": {
            "text/html": [
              "<div>\n",
              "<style scoped>\n",
              "    .dataframe tbody tr th:only-of-type {\n",
              "        vertical-align: middle;\n",
              "    }\n",
              "\n",
              "    .dataframe tbody tr th {\n",
              "        vertical-align: top;\n",
              "    }\n",
              "\n",
              "    .dataframe thead th {\n",
              "        text-align: right;\n",
              "    }\n",
              "</style>\n",
              "<table border=\"1\" class=\"dataframe\">\n",
              "  <thead>\n",
              "    <tr style=\"text-align: right;\">\n",
              "      <th></th>\n",
              "      <th></th>\n",
              "      <th></th>\n",
              "      <th>count</th>\n",
              "    </tr>\n",
              "    <tr>\n",
              "      <th>gender</th>\n",
              "      <th>major</th>\n",
              "      <th>admitted</th>\n",
              "      <th></th>\n",
              "    </tr>\n",
              "  </thead>\n",
              "  <tbody>\n",
              "    <tr>\n",
              "      <th rowspan=\"4\" valign=\"top\">female</th>\n",
              "      <th rowspan=\"2\" valign=\"top\">Chemistry</th>\n",
              "      <th>False</th>\n",
              "      <td>175</td>\n",
              "    </tr>\n",
              "    <tr>\n",
              "      <th>True</th>\n",
              "      <td>51</td>\n",
              "    </tr>\n",
              "    <tr>\n",
              "      <th rowspan=\"2\" valign=\"top\">Physics</th>\n",
              "      <th>False</th>\n",
              "      <td>8</td>\n",
              "    </tr>\n",
              "    <tr>\n",
              "      <th>True</th>\n",
              "      <td>23</td>\n",
              "    </tr>\n",
              "    <tr>\n",
              "      <th rowspan=\"4\" valign=\"top\">male</th>\n",
              "      <th rowspan=\"2\" valign=\"top\">Chemistry</th>\n",
              "      <th>False</th>\n",
              "      <td>16</td>\n",
              "    </tr>\n",
              "    <tr>\n",
              "      <th>True</th>\n",
              "      <td>2</td>\n",
              "    </tr>\n",
              "    <tr>\n",
              "      <th rowspan=\"2\" valign=\"top\">Physics</th>\n",
              "      <th>False</th>\n",
              "      <td>109</td>\n",
              "    </tr>\n",
              "    <tr>\n",
              "      <th>True</th>\n",
              "      <td>116</td>\n",
              "    </tr>\n",
              "  </tbody>\n",
              "</table>\n",
              "</div>"
            ],
            "text/plain": [
              "                           count\n",
              "gender major     admitted       \n",
              "female Chemistry False       175\n",
              "                 True         51\n",
              "       Physics   False         8\n",
              "                 True         23\n",
              "male   Chemistry False        16\n",
              "                 True          2\n",
              "       Physics   False       109\n",
              "                 True        116"
            ]
          },
          "metadata": {
            "tags": []
          },
          "execution_count": 67
        }
      ]
    },
    {
      "cell_type": "markdown",
      "metadata": {
        "id": "s9UNQlMv3-3B"
      },
      "source": [
        "### 2. What proportion of female students are majoring in physics?"
      ]
    },
    {
      "cell_type": "code",
      "metadata": {
        "colab": {
          "base_uri": "https://localhost:8080/"
        },
        "id": "ag0w_D6BIZD1",
        "outputId": "28ff7e96-ea5e-4786-a04e-81a2cbc6c69e"
      },
      "source": [
        "## proportion of female students  majoring in physics \n",
        "total_female = len(df.loc[df['gender'] == \"female\"])\n",
        "print(\"Total Female:\",total_female)\n",
        "\n",
        "female_physics_major = len(df['student_id'][(df['major'] == 'Physics') & (df['gender'] == 'female')])\n",
        "print(\"Total Female_Physics_Major:\",female_physics_major)\n",
        "\n",
        "proportion_female_physics_major=female_physics_major/total_female\n",
        "print('Proportion_Female_Physics_Major:',proportion_female_physics_major)\n",
        "\n"
      ],
      "execution_count": 68,
      "outputs": [
        {
          "output_type": "stream",
          "text": [
            "Total Female: 257\n",
            "Total Female_Physics_Major: 31\n",
            "Proportion_Female_Physics_Major: 0.12062256809338522\n"
          ],
          "name": "stdout"
        }
      ]
    },
    {
      "cell_type": "markdown",
      "metadata": {
        "id": "GmMj0tZ23-3B"
      },
      "source": [
        "### 3. What proportion of male students are majoring in physics?"
      ]
    },
    {
      "cell_type": "code",
      "metadata": {
        "colab": {
          "base_uri": "https://localhost:8080/"
        },
        "id": "zDNaD0iL3-3C",
        "outputId": "63d2f420-cc69-4267-dcea-41ca17c1ab89"
      },
      "source": [
        "## proportion of male students  majoring in physics \n",
        "total_male = len(df.loc[df['gender'] == \"male\"])\n",
        "print(\"Total male:\",total_male)\n",
        "\n",
        "male_physics_major = len(df['student_id'][(df['major'] == 'Physics') & (df['gender'] == 'male')])\n",
        "print(\"Total male_Physics_Major:\",male_physics_major)\n",
        "\n",
        "proportion_male_physics_major=male_physics_major/total_male\n",
        "print('Proportion_male_Physics_Major:',proportion_male_physics_major)"
      ],
      "execution_count": 49,
      "outputs": [
        {
          "output_type": "stream",
          "text": [
            "Total male: 243\n",
            "Total male_Physics_Major: 225\n",
            "Proportion_male_Physics_Major: 0.9259259259259259\n"
          ],
          "name": "stdout"
        }
      ]
    },
    {
      "cell_type": "markdown",
      "metadata": {
        "id": "TulEqkXJ3-3C"
      },
      "source": [
        "### 4. What is the admission rate for female physics majors?"
      ]
    },
    {
      "cell_type": "code",
      "metadata": {
        "colab": {
          "base_uri": "https://localhost:8080/"
        },
        "id": "9zdoiTD43-3C",
        "outputId": "bb62d284-02b6-4077-98bf-c4eb8159581a"
      },
      "source": [
        "## admission rate for female physics  majors\n",
        "female_physics_major = len(df['student_id'][(df['major'] == 'Physics') & (df['gender'] == 'female')])\n",
        "print(\"Total Female_Physics_Major:\",female_physics_major)\n",
        "female_physics_major_admitted = len(df['student_id'][(df['major'] == 'Physics') & (df['gender'] == 'female') & (df['admitted'] == True)])\n",
        "print(\"Total Female_Physics_Major_Admitted:\",female_physics_major_admitted)\n",
        "admission_rate_female_physics_major = female_physics_major_admitted/female_physics_major\n",
        "print('Admission rate_Female_Physics_Major:',admission_rate_female_physics_major)\n",
        "\n"
      ],
      "execution_count": 69,
      "outputs": [
        {
          "output_type": "stream",
          "text": [
            "Total Female_Physics_Major: 31\n",
            "Total Female_Physics_Major_Admitted: 23\n",
            "Admission rate_Female_Physics_Major: 0.7419354838709677\n"
          ],
          "name": "stdout"
        }
      ]
    },
    {
      "cell_type": "markdown",
      "metadata": {
        "id": "gR1DYZrh3-3C"
      },
      "source": [
        "### 5. What is the admission rate for male physics majors?"
      ]
    },
    {
      "cell_type": "code",
      "metadata": {
        "colab": {
          "base_uri": "https://localhost:8080/"
        },
        "id": "UJJCyyWb3-3C",
        "outputId": "b743ad49-88f3-4f4f-e2e0-74ad50d26b6d"
      },
      "source": [
        "## admission rate for male physics  majors\n",
        "male_physics_major = len(df['student_id'][(df['major'] == 'Physics') & (df['gender'] == 'male')])\n",
        "print(\"Total male_Physics_Major:\",male_physics_major)\n",
        "male_physics_major_admitted = len(df['student_id'][(df['major'] == 'Physics') & (df['gender'] == 'male') & (df['admitted'] == True)])\n",
        "print(\"Total male_Physics_Major_Admitted:\",male_physics_major_admitted)\n",
        "admission_rate_male_physics_major = male_physics_major_admitted/male_physics_major\n",
        "print('Admission rate_male_Physics_Major:',admission_rate_male_physics_major)"
      ],
      "execution_count": 70,
      "outputs": [
        {
          "output_type": "stream",
          "text": [
            "Total male_Physics_Major: 225\n",
            "Total male_Physics_Major_Admitted: 116\n",
            "Admission rate_male_Physics_Major: 0.5155555555555555\n"
          ],
          "name": "stdout"
        }
      ]
    },
    {
      "cell_type": "markdown",
      "metadata": {
        "id": "cxHavmJF3-3C"
      },
      "source": [
        "### 6. What is the Proportion and admission rate for chemistry majors of each gender¶"
      ]
    },
    {
      "cell_type": "code",
      "metadata": {
        "colab": {
          "base_uri": "https://localhost:8080/"
        },
        "id": "o4KrGbus3-3C",
        "outputId": "588d5b3c-1dbd-43f3-d8cb-da3d81acb51d"
      },
      "source": [
        "## proportion of female students  majoring in chemistry \n",
        "total_female = len(df.loc[df['gender'] == \"female\"])\n",
        "print(\"Total Female:\",total_female)\n",
        "\n",
        "female_chemistry_major = len(df['student_id'][(df['major'] == 'Chemistry') & (df['gender'] == 'female')])\n",
        "print(\"Total Female_chemistry_Major:\",female_chemistry_major)\n",
        "\n",
        "proportion_female_chemistry_major=female_chemistry_major/total_female\n",
        "print('Proportion_Female_chemistry_Major:',proportion_female_chemistry_major)"
      ],
      "execution_count": 71,
      "outputs": [
        {
          "output_type": "stream",
          "text": [
            "Total Female: 257\n",
            "Total Female_chemistry_Major: 226\n",
            "Proportion_Female_chemistry_Major: 0.8793774319066148\n"
          ],
          "name": "stdout"
        }
      ]
    },
    {
      "cell_type": "code",
      "metadata": {
        "colab": {
          "base_uri": "https://localhost:8080/"
        },
        "id": "6V6sbN8rPNA-",
        "outputId": "554776e5-5793-436f-97e5-eb0df9bf183a"
      },
      "source": [
        "## proportion of male students  majoring in chemistry \n",
        "total_male = len(df.loc[df['gender'] == \"male\"])\n",
        "print(\"Total male:\",total_male)\n",
        "\n",
        "male_chemistry_major = len(df['student_id'][(df['major'] == 'Chemistry') & (df['gender'] == 'male')])\n",
        "print(\"Total male_chemistry_Major:\",male_chemistry_major)\n",
        "\n",
        "proportion_male_chemistry_major=male_chemistry_major/total_male\n",
        "print('Proportion_male_chemistry_Major:',proportion_male_chemistry_major)"
      ],
      "execution_count": 72,
      "outputs": [
        {
          "output_type": "stream",
          "text": [
            "Total male: 243\n",
            "Total male_chemistry_Major: 18\n",
            "Proportion_male_chemistry_Major: 0.07407407407407407\n"
          ],
          "name": "stdout"
        }
      ]
    },
    {
      "cell_type": "code",
      "metadata": {
        "colab": {
          "base_uri": "https://localhost:8080/"
        },
        "id": "q2FDUCivTm_t",
        "outputId": "8448a056-59cc-43c5-de54-3f79d8e87f37"
      },
      "source": [
        "## admission rate for female Chemistry majors\n",
        "female_Chemistry_major = len(df['student_id'][(df['major'] == 'Chemistry') & (df['gender'] == 'female')])\n",
        "print(\"Total Female_Chemistry_Major:\",female_Chemistry_major)\n",
        "female_Chemistry_major_admitted = len(df['student_id'][(df['major'] == 'Chemistry') & (df['gender'] == 'female') & (df['admitted'] == True)])\n",
        "print(\"Total Female_Chemistry_Major_Admitted:\",female_Chemistry_major_admitted)\n",
        "admission_rate_female_Chemistry_major = female_Chemistry_major_admitted/female_Chemistry_major\n",
        "print('Admission rate_Female_Chemistry_Major:',admission_rate_female_Chemistry_major)"
      ],
      "execution_count": 74,
      "outputs": [
        {
          "output_type": "stream",
          "text": [
            "Total Female_Chemistry_Major: 226\n",
            "Total Female_Chemistry_Major_Admitted: 51\n",
            "Admission rate_Female_Chemistry_Major: 0.22566371681415928\n"
          ],
          "name": "stdout"
        }
      ]
    },
    {
      "cell_type": "code",
      "metadata": {
        "colab": {
          "base_uri": "https://localhost:8080/"
        },
        "id": "YcQuAjKOUrAv",
        "outputId": "e51d1af6-a06a-4c0c-9cb6-c2b56906d695"
      },
      "source": [
        "## admission rate for male Chemistry majors\n",
        "male_Chemistry_major = len(df['student_id'][(df['major'] == 'Chemistry') & (df['gender'] == 'male')])\n",
        "print(\"Total male_Chemistry_Major:\",male_Chemistry_major)\n",
        "male_Chemistry_major_admitted = len(df['student_id'][(df['major'] == 'Chemistry') & (df['gender'] == 'male') & (df['admitted'] == True)])\n",
        "print(\"Total male_Chemistry_Major_Admitted:\",male_Chemistry_major_admitted)\n",
        "admission_rate_male_Chemistry_major = male_Chemistry_major_admitted/male_Chemistry_major\n",
        "print('Admission rate_male_Chemistry_Major:',admission_rate_male_Chemistry_major)"
      ],
      "execution_count": 75,
      "outputs": [
        {
          "output_type": "stream",
          "text": [
            "Total male_Chemistry_Major: 18\n",
            "Total male_Chemistry_Major_Admitted: 2\n",
            "Admission rate_male_Chemistry_Major: 0.1111111111111111\n"
          ],
          "name": "stdout"
        }
      ]
    },
    {
      "cell_type": "markdown",
      "metadata": {
        "id": "2jAZ61Q43-3C"
      },
      "source": [
        "### 7. What is the total Admission rate for each major?"
      ]
    },
    {
      "cell_type": "code",
      "metadata": {
        "colab": {
          "base_uri": "https://localhost:8080/"
        },
        "id": "Nu-VRzbcWioY",
        "outputId": "605c440a-11b3-4b7a-bdbc-1549ddd986a6"
      },
      "source": [
        "#Total Admission Rate Chemistry Major \n",
        "total_Chemistry_major = len(df['student_id'][(df['major'] == 'Chemistry')])\n",
        "print(\"Total_Chemistry_Major:\",total_Chemistry_major)\n",
        "admitted_Chemistry_major = len(df['student_id'][(df['major'] == 'Chemistry') & (df['admitted'] == True) ])\n",
        "print(\"Admitted_Chemistry_Major:\",admitted_Chemistry_major)\n",
        "total_Admission_rate_Chemistry_Major= admitted_Chemistry_major/total_Chemistry_major\n",
        "print(\"Total_Admission_rate_Chemistry_Major:\",total_Admission_rate_Chemistry_Major)\n",
        "\n",
        "\n"
      ],
      "execution_count": 76,
      "outputs": [
        {
          "output_type": "stream",
          "text": [
            "Total_Chemistry_Major: 244\n",
            "Admitted_Chemistry_Major: 53\n",
            "Total_Admission_rate_Chemistry_Major: 0.21721311475409835\n"
          ],
          "name": "stdout"
        }
      ]
    },
    {
      "cell_type": "code",
      "metadata": {
        "colab": {
          "base_uri": "https://localhost:8080/"
        },
        "id": "uGkJ9IWVYICd",
        "outputId": "a718d5c2-a6bf-46cf-caa9-127719a2f738"
      },
      "source": [
        "#Total Admission Rate Physics Major \n",
        "total_Physics_major = len(df['student_id'][(df['major'] == 'Physics')])\n",
        "print(\"Total_Physics_Major:\",total_Physics_major)\n",
        "admitted_Physics_major = len(df['student_id'][(df['major'] == 'Physics') & (df['admitted'] == True) ])\n",
        "print(\"Admitted_Physics_Major:\",admitted_Physics_major)\n",
        "total_Admission_rate_Physics_Major= admitted_Physics_major/total_Physics_major\n",
        "print(\"Total_Admission_rate_Physics_Major:\",total_Admission_rate_Physics_Major)"
      ],
      "execution_count": 77,
      "outputs": [
        {
          "output_type": "stream",
          "text": [
            "Total_Physics_Major: 256\n",
            "Admitted_Physics_Major: 139\n",
            "Total_Admission_rate_Physics_Major: 0.54296875\n"
          ],
          "name": "stdout"
        }
      ]
    }
  ]
}
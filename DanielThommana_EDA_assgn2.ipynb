{
  "nbformat": 4,
  "nbformat_minor": 0,
  "metadata": {
    "colab": {
      "name": "DanielThommana_EDA_assgn2.ipynb",
      "provenance": [],
      "collapsed_sections": []
    },
    "kernelspec": {
      "display_name": "Python 3",
      "language": "python",
      "name": "python3"
    },
    "language_info": {
      "codemirror_mode": {
        "name": "ipython",
        "version": 3
      },
      "file_extension": ".py",
      "mimetype": "text/x-python",
      "name": "python",
      "nbconvert_exporter": "python",
      "pygments_lexer": "ipython3",
      "version": "3.8.8"
    }
  },
  "cells": [
    {
      "cell_type": "markdown",
      "metadata": {
        "id": "bIpwCyoW6kAG"
      },
      "source": [
        "# Loading Packages"
      ]
    },
    {
      "cell_type": "code",
      "metadata": {
        "id": "7q9nNtp46kAJ"
      },
      "source": [
        "import pandas as pd \n",
        "import numpy as np                     # For mathematical calculations \n",
        "import seaborn as sns                  # For data visualization \n",
        "import matplotlib.pyplot as plt        # For plotting graphs \n",
        "import warnings\n",
        "import statsmodels.api as sm \n",
        "warnings.filterwarnings(\"ignore\")      # To ignore any warnings warnings.filterwarnings(\"ignore\")\n",
        "import pylab as py"
      ],
      "execution_count": null,
      "outputs": []
    },
    {
      "cell_type": "markdown",
      "metadata": {
        "id": "WR1j7iIp6kAM"
      },
      "source": [
        "# Reading data"
      ]
    },
    {
      "cell_type": "code",
      "metadata": {
        "id": "J4SQraOB6kAO"
      },
      "source": [
        "data=pd.read_csv(\"loan.csv\") \n"
      ],
      "execution_count": null,
      "outputs": []
    },
    {
      "cell_type": "markdown",
      "metadata": {
        "id": "EAnrfseU6kAP"
      },
      "source": [
        "# Understanding Data"
      ]
    },
    {
      "cell_type": "code",
      "metadata": {
        "colab": {
          "base_uri": "https://localhost:8080/",
          "height": 239
        },
        "id": "6KATaENY6kAQ",
        "outputId": "64a2f803-f94c-45c1-f15b-f100ea119971"
      },
      "source": [
        "data.head()"
      ],
      "execution_count": null,
      "outputs": [
        {
          "output_type": "execute_result",
          "data": {
            "text/html": [
              "<div>\n",
              "<style scoped>\n",
              "    .dataframe tbody tr th:only-of-type {\n",
              "        vertical-align: middle;\n",
              "    }\n",
              "\n",
              "    .dataframe tbody tr th {\n",
              "        vertical-align: top;\n",
              "    }\n",
              "\n",
              "    .dataframe thead th {\n",
              "        text-align: right;\n",
              "    }\n",
              "</style>\n",
              "<table border=\"1\" class=\"dataframe\">\n",
              "  <thead>\n",
              "    <tr style=\"text-align: right;\">\n",
              "      <th></th>\n",
              "      <th>Loan_ID</th>\n",
              "      <th>Gender</th>\n",
              "      <th>Married</th>\n",
              "      <th>Dependents</th>\n",
              "      <th>Education</th>\n",
              "      <th>Self_Employed</th>\n",
              "      <th>ApplicantIncome</th>\n",
              "      <th>CoapplicantIncome</th>\n",
              "      <th>LoanAmount</th>\n",
              "      <th>Loan_Amount_Term</th>\n",
              "      <th>Credit_History</th>\n",
              "      <th>Property_Area</th>\n",
              "      <th>Loan_Status</th>\n",
              "    </tr>\n",
              "  </thead>\n",
              "  <tbody>\n",
              "    <tr>\n",
              "      <th>0</th>\n",
              "      <td>LP001002</td>\n",
              "      <td>Male</td>\n",
              "      <td>No</td>\n",
              "      <td>0</td>\n",
              "      <td>Graduate</td>\n",
              "      <td>No</td>\n",
              "      <td>5849</td>\n",
              "      <td>0.0</td>\n",
              "      <td>NaN</td>\n",
              "      <td>360.0</td>\n",
              "      <td>1.0</td>\n",
              "      <td>Urban</td>\n",
              "      <td>Y</td>\n",
              "    </tr>\n",
              "    <tr>\n",
              "      <th>1</th>\n",
              "      <td>LP001003</td>\n",
              "      <td>Male</td>\n",
              "      <td>Yes</td>\n",
              "      <td>1</td>\n",
              "      <td>Graduate</td>\n",
              "      <td>No</td>\n",
              "      <td>4583</td>\n",
              "      <td>1508.0</td>\n",
              "      <td>128.0</td>\n",
              "      <td>360.0</td>\n",
              "      <td>1.0</td>\n",
              "      <td>Rural</td>\n",
              "      <td>N</td>\n",
              "    </tr>\n",
              "    <tr>\n",
              "      <th>2</th>\n",
              "      <td>LP001005</td>\n",
              "      <td>Male</td>\n",
              "      <td>Yes</td>\n",
              "      <td>0</td>\n",
              "      <td>Graduate</td>\n",
              "      <td>Yes</td>\n",
              "      <td>3000</td>\n",
              "      <td>0.0</td>\n",
              "      <td>66.0</td>\n",
              "      <td>360.0</td>\n",
              "      <td>1.0</td>\n",
              "      <td>Urban</td>\n",
              "      <td>Y</td>\n",
              "    </tr>\n",
              "    <tr>\n",
              "      <th>3</th>\n",
              "      <td>LP001006</td>\n",
              "      <td>Male</td>\n",
              "      <td>Yes</td>\n",
              "      <td>0</td>\n",
              "      <td>Not Graduate</td>\n",
              "      <td>No</td>\n",
              "      <td>2583</td>\n",
              "      <td>2358.0</td>\n",
              "      <td>120.0</td>\n",
              "      <td>360.0</td>\n",
              "      <td>1.0</td>\n",
              "      <td>Urban</td>\n",
              "      <td>Y</td>\n",
              "    </tr>\n",
              "    <tr>\n",
              "      <th>4</th>\n",
              "      <td>LP001008</td>\n",
              "      <td>Male</td>\n",
              "      <td>No</td>\n",
              "      <td>0</td>\n",
              "      <td>Graduate</td>\n",
              "      <td>No</td>\n",
              "      <td>6000</td>\n",
              "      <td>0.0</td>\n",
              "      <td>141.0</td>\n",
              "      <td>360.0</td>\n",
              "      <td>1.0</td>\n",
              "      <td>Urban</td>\n",
              "      <td>Y</td>\n",
              "    </tr>\n",
              "  </tbody>\n",
              "</table>\n",
              "</div>"
            ],
            "text/plain": [
              "    Loan_ID Gender Married  ... Credit_History Property_Area Loan_Status\n",
              "0  LP001002   Male      No  ...            1.0         Urban           Y\n",
              "1  LP001003   Male     Yes  ...            1.0         Rural           N\n",
              "2  LP001005   Male     Yes  ...            1.0         Urban           Y\n",
              "3  LP001006   Male     Yes  ...            1.0         Urban           Y\n",
              "4  LP001008   Male      No  ...            1.0         Urban           Y\n",
              "\n",
              "[5 rows x 13 columns]"
            ]
          },
          "metadata": {
            "tags": []
          },
          "execution_count": 4
        }
      ]
    },
    {
      "cell_type": "code",
      "metadata": {
        "colab": {
          "base_uri": "https://localhost:8080/"
        },
        "id": "EZ1semqF6kAS",
        "outputId": "0b3f1707-44d7-464d-a003-2a7b19208e26"
      },
      "source": [
        "data.shape "
      ],
      "execution_count": null,
      "outputs": [
        {
          "output_type": "execute_result",
          "data": {
            "text/plain": [
              "(614, 13)"
            ]
          },
          "metadata": {
            "tags": []
          },
          "execution_count": 5
        }
      ]
    },
    {
      "cell_type": "code",
      "metadata": {
        "colab": {
          "base_uri": "https://localhost:8080/"
        },
        "id": "HGTwMmo66kAT",
        "outputId": "3280f3a3-3057-4be7-f74e-2aa8b0e0ec2f"
      },
      "source": [
        "# Print data types for each variable train.dtypes\n",
        "data.dtypes"
      ],
      "execution_count": null,
      "outputs": [
        {
          "output_type": "execute_result",
          "data": {
            "text/plain": [
              "Loan_ID               object\n",
              "Gender                object\n",
              "Married               object\n",
              "Dependents            object\n",
              "Education             object\n",
              "Self_Employed         object\n",
              "ApplicantIncome        int64\n",
              "CoapplicantIncome    float64\n",
              "LoanAmount           float64\n",
              "Loan_Amount_Term     float64\n",
              "Credit_History       float64\n",
              "Property_Area         object\n",
              "Loan_Status           object\n",
              "dtype: object"
            ]
          },
          "metadata": {
            "tags": []
          },
          "execution_count": 6
        }
      ]
    },
    {
      "cell_type": "markdown",
      "metadata": {
        "id": "iBCQw-li6kAU"
      },
      "source": [
        "### 1 : Identify the categorical and continuous features in the data ?"
      ]
    },
    {
      "cell_type": "code",
      "metadata": {
        "colab": {
          "base_uri": "https://localhost:8080/"
        },
        "id": "RuP9lWLHxa3j",
        "outputId": "c1a7b7e4-45bb-4d4c-bb6d-9941a3895311"
      },
      "source": [
        "# continuous features\n",
        "data.select_dtypes(include=['int64','float64']).dtypes"
      ],
      "execution_count": null,
      "outputs": [
        {
          "output_type": "execute_result",
          "data": {
            "text/plain": [
              "ApplicantIncome        int64\n",
              "CoapplicantIncome    float64\n",
              "LoanAmount           float64\n",
              "Loan_Amount_Term     float64\n",
              "Credit_History       float64\n",
              "dtype: object"
            ]
          },
          "metadata": {
            "tags": []
          },
          "execution_count": 7
        }
      ]
    },
    {
      "cell_type": "code",
      "metadata": {
        "colab": {
          "base_uri": "https://localhost:8080/"
        },
        "id": "VvLWr-roxlhV",
        "outputId": "e2ad28ae-8eb9-42f8-dfca-ca2b942e44d1"
      },
      "source": [
        "# categorical features\n",
        "data.select_dtypes(include=['object']).dtypes\n",
        "\n",
        "# Loan_ID is not required for analysis\n",
        "# Dependents comes under continuous features"
      ],
      "execution_count": null,
      "outputs": [
        {
          "output_type": "execute_result",
          "data": {
            "text/plain": [
              "Loan_ID          object\n",
              "Gender           object\n",
              "Married          object\n",
              "Dependents       object\n",
              "Education        object\n",
              "Self_Employed    object\n",
              "Property_Area    object\n",
              "Loan_Status      object\n",
              "dtype: object"
            ]
          },
          "metadata": {
            "tags": []
          },
          "execution_count": 8
        }
      ]
    },
    {
      "cell_type": "markdown",
      "metadata": {
        "id": "Ju7P6rLa6kAW"
      },
      "source": [
        "### 2. What kind of distribution is followed by Applicant Income ?"
      ]
    },
    {
      "cell_type": "code",
      "metadata": {
        "colab": {
          "base_uri": "https://localhost:8080/",
          "height": 334
        },
        "id": "XDastzhdz33d",
        "outputId": "27650d7c-33a0-4189-d041-3063c18cc95e"
      },
      "source": [
        "plt.figure(figsize=(10,5))\n",
        "sns.histplot(data['ApplicantIncome'], bins=20);"
      ],
      "execution_count": null,
      "outputs": [
        {
          "output_type": "display_data",
          "data": {
            "image/png": "[encoded data removed]",
            "text/plain": [
              "<Figure size 720x360 with 1 Axes>"
            ]
          },
          "metadata": {
            "tags": [],
            "needs_background": "light"
          }
        }
      ]
    },
    {
      "cell_type": "code",
      "metadata": {
        "colab": {
          "base_uri": "https://localhost:8080/"
        },
        "id": "6wcvtl5E1XuS",
        "outputId": "70ce5079-22de-432d-d527-7642f413e86a"
      },
      "source": [
        "data['ApplicantIncome'].skew()\n"
      ],
      "execution_count": null,
      "outputs": [
        {
          "output_type": "execute_result",
          "data": {
            "text/plain": [
              "6.539513113994625"
            ]
          },
          "metadata": {
            "tags": []
          },
          "execution_count": 10
        }
      ]
    },
    {
      "cell_type": "markdown",
      "metadata": {
        "id": "uIXlcBsx4nQA"
      },
      "source": [
        "### Right Skewed Distribution"
      ]
    },
    {
      "cell_type": "markdown",
      "metadata": {
        "id": "eVmq7zk16kAX"
      },
      "source": [
        "### 3. What kind of distribution is followed by CoApplicant Income ?"
      ]
    },
    {
      "cell_type": "code",
      "metadata": {
        "colab": {
          "base_uri": "https://localhost:8080/",
          "height": 334
        },
        "id": "PmELGqXF1z0E",
        "outputId": "2fe91fab-1683-4d06-812e-0761fe25e51b"
      },
      "source": [
        "plt.figure(figsize=(10,5))\n",
        "sns.histplot(data['CoapplicantIncome'], bins=20);"
      ],
      "execution_count": null,
      "outputs": [
        {
          "output_type": "display_data",
          "data": {
            "image/png": "[encoded data removed]",
            "text/plain": [
              "<Figure size 720x360 with 1 Axes>"
            ]
          },
          "metadata": {
            "tags": [],
            "needs_background": "light"
          }
        }
      ]
    },
    {
      "cell_type": "code",
      "metadata": {
        "colab": {
          "base_uri": "https://localhost:8080/"
        },
        "id": "1uJUGP_t2jto",
        "outputId": "f672c5aa-2868-4b43-c817-5784c993ca0a"
      },
      "source": [
        "data['CoapplicantIncome'].skew()\n"
      ],
      "execution_count": null,
      "outputs": [
        {
          "output_type": "execute_result",
          "data": {
            "text/plain": [
              "7.491531216657306"
            ]
          },
          "metadata": {
            "tags": []
          },
          "execution_count": 12
        }
      ]
    },
    {
      "cell_type": "markdown",
      "metadata": {
        "id": "q9nGu1j34ktH"
      },
      "source": [
        "### Right Skewed Distribution\n"
      ]
    },
    {
      "cell_type": "markdown",
      "metadata": {
        "id": "KyR_k0at6kAY"
      },
      "source": [
        "### 4. What kind of distribution is followed by LoanAmount ?"
      ]
    },
    {
      "cell_type": "code",
      "metadata": {
        "colab": {
          "base_uri": "https://localhost:8080/",
          "height": 334
        },
        "id": "B62oqbHr3Iei",
        "outputId": "cb1829fe-016a-4029-cd10-e96b72c61b83"
      },
      "source": [
        "plt.figure(figsize=(10,5))\n",
        "sns.histplot(data['LoanAmount'], bins=20);"
      ],
      "execution_count": null,
      "outputs": [
        {
          "output_type": "display_data",
          "data": {
            "image/png": "[encoded data removed]",
            "text/plain": [
              "<Figure size 720x360 with 1 Axes>"
            ]
          },
          "metadata": {
            "tags": [],
            "needs_background": "light"
          }
        }
      ]
    },
    {
      "cell_type": "code",
      "metadata": {
        "colab": {
          "base_uri": "https://localhost:8080/"
        },
        "id": "Jk4nJOln3hPR",
        "outputId": "91c073ab-6abb-4145-9894-edfde1c01bef"
      },
      "source": [
        "data['LoanAmount'].skew()"
      ],
      "execution_count": null,
      "outputs": [
        {
          "output_type": "execute_result",
          "data": {
            "text/plain": [
              "2.677551679256059"
            ]
          },
          "metadata": {
            "tags": []
          },
          "execution_count": 14
        }
      ]
    },
    {
      "cell_type": "markdown",
      "metadata": {
        "id": "lCUzUDfD4bx8"
      },
      "source": [
        "### Right Skewed Distribution"
      ]
    },
    {
      "cell_type": "markdown",
      "metadata": {
        "id": "b9QpSOVU6kAZ"
      },
      "source": [
        "### 5. Plot KDE plot with descriptive statistics for Loan Amount ?"
      ]
    },
    {
      "cell_type": "code",
      "metadata": {
        "colab": {
          "base_uri": "https://localhost:8080/"
        },
        "id": "4sJOqZoy5EEF",
        "outputId": "d7cd2bcc-4c59-477e-f762-8301e4a8a647"
      },
      "source": [
        "LoanAmount = data['LoanAmount']\n",
        "\n",
        "mean = LoanAmount.mean()\n",
        "median = LoanAmount.median()\n",
        "stdev = LoanAmount.mean()- LoanAmount.std(), LoanAmount.mean()+ LoanAmount.std() \n",
        "\n",
        "mean, median, stdev"
      ],
      "execution_count": null,
      "outputs": [
        {
          "output_type": "execute_result",
          "data": {
            "text/plain": [
              "(146.41216216216216, 128.0, (60.82483692645671, 231.9994873978676))"
            ]
          },
          "metadata": {
            "tags": []
          },
          "execution_count": 15
        }
      ]
    },
    {
      "cell_type": "code",
      "metadata": {
        "colab": {
          "base_uri": "https://localhost:8080/",
          "height": 556
        },
        "id": "qk0Txb6x67Wr",
        "outputId": "99f44d29-330d-4f5d-fa51-52567e245af8"
      },
      "source": [
        "plt.figure(dpi = 140)\n",
        "\n",
        "sns.kdeplot(LoanAmount,shade = True)\n",
        "sns.scatterplot( [mean], [0], color='red', label='mean',s=100)\n",
        "sns.scatterplot( [median], [0], color='green', label='median',s=100)\n",
        "sns.lineplot( stdev, [0,0], color='black', label='standard deviation',linewidth = 2.5)\n",
        "\n",
        "plt.xlabel(\"Loan Amount\")\n",
        "plt.ylabel('Density')\n",
        "plt.title(\"KDE Plot with descriptives :  Loan Amount\")\n",
        "plt.show()"
      ],
      "execution_count": null,
      "outputs": [
        {
          "output_type": "display_data",
          "data": {
            "image/png": "[encoded data removed]",
            "text/plain": [
              "<Figure size 840x560 with 1 Axes>"
            ]
          },
          "metadata": {
            "tags": [],
            "needs_background": "light"
          }
        }
      ]
    },
    {
      "cell_type": "markdown",
      "metadata": {
        "id": "ly-x9k896kAa"
      },
      "source": [
        "### 6. Observe QQ plot for Loan Amount, Applicant Income and CoApplicant Income, derive your insights from them ?"
      ]
    },
    {
      "cell_type": "code",
      "metadata": {
        "colab": {
          "base_uri": "https://localhost:8080/",
          "height": 279
        },
        "id": "WL3mwzcX6kAc",
        "outputId": "c9a1b4c6-accb-4491-f316-4b076b3507db"
      },
      "source": [
        "#ApplicantIncome\n",
        "sm.qqplot(data['ApplicantIncome'], line='s') \n",
        "py.show() "
      ],
      "execution_count": null,
      "outputs": [
        {
          "output_type": "display_data",
          "data": {
            "image/png": "[encoded data removed]",
            "text/plain": [
              "<Figure size 432x288 with 1 Axes>"
            ]
          },
          "metadata": {
            "tags": [],
            "needs_background": "light"
          }
        }
      ]
    },
    {
      "cell_type": "markdown",
      "metadata": {
        "id": "7RAxTVsMOE8T"
      },
      "source": [
        "* Smaller values are not as small as expected from a Normal Distribution\n",
        "* Larger values are larger in magnitude as compared to a normal distribution"
      ]
    },
    {
      "cell_type": "code",
      "metadata": {
        "colab": {
          "base_uri": "https://localhost:8080/"
        },
        "id": "YH6FmG-cMDux",
        "outputId": "a0e717a1-891a-4e2d-b53a-5910704e05df"
      },
      "source": [
        "#Skewness\n",
        "data['ApplicantIncome'].skew()\n"
      ],
      "execution_count": null,
      "outputs": [
        {
          "output_type": "execute_result",
          "data": {
            "text/plain": [
              "6.539513113994625"
            ]
          },
          "metadata": {
            "tags": []
          },
          "execution_count": 20
        }
      ]
    },
    {
      "cell_type": "markdown",
      "metadata": {
        "id": "lKVdeBh6MZjD"
      },
      "source": [
        "* __Positive Skewness__ indicates __Positively skewed__\n",
        "* __Positively skewed__ is also known as __Right Skewed Distribution__"
      ]
    },
    {
      "cell_type": "code",
      "metadata": {
        "colab": {
          "base_uri": "https://localhost:8080/"
        },
        "id": "D-zKqW2OM3VX",
        "outputId": "e7ab08cf-474a-457c-d6b9-35a45c707738"
      },
      "source": [
        "#Kurtosis \n",
        "data['ApplicantIncome'].kurtosis()"
      ],
      "execution_count": null,
      "outputs": [
        {
          "output_type": "execute_result",
          "data": {
            "text/plain": [
              "60.54067593369113"
            ]
          },
          "metadata": {
            "tags": []
          },
          "execution_count": 21
        }
      ]
    },
    {
      "cell_type": "markdown",
      "metadata": {
        "id": "aWwqlZ4zNKdY"
      },
      "source": [
        "* __Positive Kurtosis__ indicates __Leptokurtic Distribution__\n",
        "* Distribution is __longer__ in compare to Normal Distribution \n",
        "* High presence of __extreme values__"
      ]
    },
    {
      "cell_type": "code",
      "metadata": {
        "colab": {
          "base_uri": "https://localhost:8080/",
          "height": 279
        },
        "id": "u1k5hFGO9OTO",
        "outputId": "e512790d-b55d-4f25-d93b-f4a7eac5c52c"
      },
      "source": [
        "#CoapplicantIncome\n",
        "sm.qqplot(data['CoapplicantIncome'], line='s') \n",
        "py.show() "
      ],
      "execution_count": null,
      "outputs": [
        {
          "output_type": "display_data",
          "data": {
            "image/png": "[encoded data removed]",
            "text/plain": [
              "<Figure size 432x288 with 1 Axes>"
            ]
          },
          "metadata": {
            "tags": [],
            "needs_background": "light"
          }
        }
      ]
    },
    {
      "cell_type": "markdown",
      "metadata": {
        "id": "Lidai0GWO-4u"
      },
      "source": [
        "* Smaller values are not as small as expected from a Normal Distribution\n",
        "* Larger values are larger in magnitude as compared to a normal distribution"
      ]
    },
    {
      "cell_type": "code",
      "metadata": {
        "colab": {
          "base_uri": "https://localhost:8080/"
        },
        "id": "RLJm59d9PGSx",
        "outputId": "93b8b829-1f6b-4817-f4d1-5cabd5be625c"
      },
      "source": [
        "#Skewness\n",
        "data['CoapplicantIncome'].skew()"
      ],
      "execution_count": null,
      "outputs": [
        {
          "output_type": "execute_result",
          "data": {
            "text/plain": [
              "7.491531216657306"
            ]
          },
          "metadata": {
            "tags": []
          },
          "execution_count": 22
        }
      ]
    },
    {
      "cell_type": "markdown",
      "metadata": {
        "id": "dQw5_MhfPO4f"
      },
      "source": [
        "* __Positive Skewness__ indicates __Positively skewed__\n",
        "* __Positively skewed__ is also known as __Right Skewed Distribution__"
      ]
    },
    {
      "cell_type": "code",
      "metadata": {
        "colab": {
          "base_uri": "https://localhost:8080/"
        },
        "id": "aOruB9_ZPQCc",
        "outputId": "bafee6e4-40be-4a1b-9b0f-699ed9c3c621"
      },
      "source": [
        "#Kurtosis \n",
        "data['CoapplicantIncome'].kurtosis()"
      ],
      "execution_count": null,
      "outputs": [
        {
          "output_type": "execute_result",
          "data": {
            "text/plain": [
              "84.95638421103374"
            ]
          },
          "metadata": {
            "tags": []
          },
          "execution_count": 23
        }
      ]
    },
    {
      "cell_type": "markdown",
      "metadata": {
        "id": "HObJs65BPXJY"
      },
      "source": [
        "* __Positive Kurtosis__ indicates __Leptokurtic Distribution__\n",
        "* Distribution is __longer__ in compare to Normal Distribution \n",
        "* High presence of __extreme values__"
      ]
    },
    {
      "cell_type": "code",
      "metadata": {
        "colab": {
          "base_uri": "https://localhost:8080/",
          "height": 319
        },
        "id": "-PPlSPiA9PeN",
        "outputId": "e791c07d-de2d-4d98-8013-8fb33bbcfa5f"
      },
      "source": [
        "#LoanAmount\n",
        "sm.qqplot(data['LoanAmount'], line='s') \n",
        "py.show() "
      ],
      "execution_count": null,
      "outputs": [
        {
          "output_type": "display_data",
          "data": {
            "image/png": "[encoded data removed]",
            "text/plain": [
              "<Figure size 432x288 with 1 Axes>"
            ]
          },
          "metadata": {
            "tags": [],
            "needs_background": "light"
          }
        }
      ]
    },
    {
      "cell_type": "markdown",
      "metadata": {
        "id": "7-L_mNTYPAFu"
      },
      "source": [
        "* Smaller values are not as small as expected from a Normal Distribution\n",
        "* Larger values are larger in magnitude as compared to a normal distribution"
      ]
    },
    {
      "cell_type": "code",
      "metadata": {
        "colab": {
          "base_uri": "https://localhost:8080/"
        },
        "id": "MSFbOj_PLwdk",
        "outputId": "af2c6003-2f5d-4fce-f8cb-dadc2e1742c3"
      },
      "source": [
        "#Skewness\n",
        "data['LoanAmount'].skew()"
      ],
      "execution_count": null,
      "outputs": [
        {
          "output_type": "execute_result",
          "data": {
            "text/plain": [
              "2.677551679256059"
            ]
          },
          "metadata": {
            "tags": []
          },
          "execution_count": 24
        }
      ]
    },
    {
      "cell_type": "markdown",
      "metadata": {
        "id": "kpMVfFj3PirT"
      },
      "source": [
        "* __Positive Skewness__ indicates __Positively skewed__\n",
        "* __Positively skewed__ is also known as __Right Skewed Distribution__"
      ]
    },
    {
      "cell_type": "code",
      "metadata": {
        "colab": {
          "base_uri": "https://localhost:8080/"
        },
        "id": "3rs-0_4jPkUS",
        "outputId": "55c79037-287b-4a2f-a3b7-db8ddc94c704"
      },
      "source": [
        "#Kurtosis \n",
        "data['LoanAmount'].kurtosis()"
      ],
      "execution_count": null,
      "outputs": [
        {
          "output_type": "execute_result",
          "data": {
            "text/plain": [
              "10.40153349029416"
            ]
          },
          "metadata": {
            "tags": []
          },
          "execution_count": 25
        }
      ]
    },
    {
      "cell_type": "markdown",
      "metadata": {
        "id": "bucQbzsFP-1s"
      },
      "source": [
        "* __Positive Kurtosis__ indicates __Leptokurtic Distribution__\n",
        "* Distribution is __longer__ in compare to Normal Distribution \n",
        "* High presence of __extreme values__"
      ]
    }
  ]
}
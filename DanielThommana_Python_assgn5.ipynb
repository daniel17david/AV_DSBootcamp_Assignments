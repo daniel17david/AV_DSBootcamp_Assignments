{
  "nbformat": 4,
  "nbformat_minor": 0,
  "metadata": {
    "colab": {
      "name": "DanielThommana_Python_assgn5.ipynb",
      "provenance": [],
      "collapsed_sections": []
    },
    "kernelspec": {
      "display_name": "Python 3",
      "language": "python",
      "name": "python3"
    },
    "language_info": {
      "codemirror_mode": {
        "name": "ipython",
        "version": 3
      },
      "file_extension": ".py",
      "mimetype": "text/x-python",
      "name": "python",
      "nbconvert_exporter": "python",
      "pygments_lexer": "ipython3",
      "version": "3.8.8"
    }
  },
  "cells": [
    {
      "cell_type": "markdown",
      "metadata": {
        "id": "NeOFeIy92g-n"
      },
      "source": [
        "---\n",
        "---\n",
        "\n",
        "<center><h1> Assignment</h1></center>\n",
        "\n",
        "---\n",
        "---\n",
        "\n",
        "#### `Instructions`\n",
        "\n",
        "* ***You are free to use internet to refer the documentation of any library.***\n",
        "* ***If required, feel free to import other libraries to do the task required.***\n",
        "* ***Before making a submission, make sure that your code is commented.***\n",
        "\n",
        "---\n",
        "\n",
        "\n",
        "#### `Importing the Required Libraries`\n",
        "\n",
        "---"
      ]
    },
    {
      "cell_type": "code",
      "metadata": {
        "id": "IfEaA9OL2g-o"
      },
      "source": [
        "import pandas as pd\n",
        "import numpy  as np\n",
        "import matplotlib.pyplot as plt\n",
        "%matplotlib inline\n",
        "\n",
        "import os\n",
        "import glob\n",
        "import seaborn as sns\n",
        "import warnings\n",
        "warnings.filterwarnings('ignore')"
      ],
      "execution_count": 2,
      "outputs": []
    },
    {
      "cell_type": "markdown",
      "metadata": {
        "id": "Y73bxEEO2g-s"
      },
      "source": [
        "---\n",
        "\n",
        "### `SECTION 1:`\n",
        "\n",
        "---\n",
        "\n",
        "\n",
        "***1. From the directory, read `ads.csv` file. Observe the dataframe once read and if it doesn't look fine make appropriate changes to the parameters to read the file.***\n",
        "\n",
        "---"
      ]
    },
    {
      "cell_type": "code",
      "metadata": {
        "colab": {
          "base_uri": "https://localhost:8080/",
          "height": 204
        },
        "id": "XJx1s6492g-s",
        "outputId": "4bc68764-0369-482c-8035-6d8a8b62f8df"
      },
      "source": [
        "# read the Ads.csv data in the dataset folder\n",
        "# write your code here\n",
        "data_ads = pd.read_csv(\"ads.csv\", skiprows=3)\n",
        "data_ads.head()\n"
      ],
      "execution_count": null,
      "outputs": [
        {
          "output_type": "execute_result",
          "data": {
            "text/html": [
              "<div>\n",
              "<style scoped>\n",
              "    .dataframe tbody tr th:only-of-type {\n",
              "        vertical-align: middle;\n",
              "    }\n",
              "\n",
              "    .dataframe tbody tr th {\n",
              "        vertical-align: top;\n",
              "    }\n",
              "\n",
              "    .dataframe thead th {\n",
              "        text-align: right;\n",
              "    }\n",
              "</style>\n",
              "<table border=\"1\" class=\"dataframe\">\n",
              "  <thead>\n",
              "    <tr style=\"text-align: right;\">\n",
              "      <th></th>\n",
              "      <th>Time</th>\n",
              "      <th>Ads</th>\n",
              "    </tr>\n",
              "  </thead>\n",
              "  <tbody>\n",
              "    <tr>\n",
              "      <th>0</th>\n",
              "      <td>2017-09-13T00:00:00</td>\n",
              "      <td>80115</td>\n",
              "    </tr>\n",
              "    <tr>\n",
              "      <th>1</th>\n",
              "      <td>2017-09-13T01:00:00</td>\n",
              "      <td>79885</td>\n",
              "    </tr>\n",
              "    <tr>\n",
              "      <th>2</th>\n",
              "      <td>2017-09-13T02:00:00</td>\n",
              "      <td>89325</td>\n",
              "    </tr>\n",
              "    <tr>\n",
              "      <th>3</th>\n",
              "      <td>2017-09-13T03:00:00</td>\n",
              "      <td>101930</td>\n",
              "    </tr>\n",
              "    <tr>\n",
              "      <th>4</th>\n",
              "      <td>2017-09-13T04:00:00</td>\n",
              "      <td>121630</td>\n",
              "    </tr>\n",
              "  </tbody>\n",
              "</table>\n",
              "</div>"
            ],
            "text/plain": [
              "                  Time     Ads\n",
              "0  2017-09-13T00:00:00   80115\n",
              "1  2017-09-13T01:00:00   79885\n",
              "2  2017-09-13T02:00:00   89325\n",
              "3  2017-09-13T03:00:00  101930\n",
              "4  2017-09-13T04:00:00  121630"
            ]
          },
          "metadata": {
            "tags": []
          },
          "execution_count": 2
        }
      ]
    },
    {
      "cell_type": "markdown",
      "metadata": {
        "id": "LXaE1Uiz2g-v"
      },
      "source": [
        "---\n",
        "\n",
        "***2. Convert the time-based column present in the data to date time format and print the head of the data.***\n",
        "\n",
        "---"
      ]
    },
    {
      "cell_type": "code",
      "metadata": {
        "id": "ADv0fXM32g-w"
      },
      "source": [
        "# convert to datetime\n",
        "# write your code here\n",
        "data_ads['Time'] = pd.to_datetime(data_ads['Time'], format=\"%Y-%m-%d %H:%M:%S\")\n"
      ],
      "execution_count": null,
      "outputs": []
    },
    {
      "cell_type": "code",
      "metadata": {
        "colab": {
          "base_uri": "https://localhost:8080/",
          "height": 204
        },
        "id": "4CDSahDB2g-z",
        "outputId": "f96f91d1-92ae-424e-ee68-79ab1302ef3c"
      },
      "source": [
        "# view the top rows of the data\n",
        "# write your code here\n",
        "data_ads.head()\n"
      ],
      "execution_count": null,
      "outputs": [
        {
          "output_type": "execute_result",
          "data": {
            "text/html": [
              "<div>\n",
              "<style scoped>\n",
              "    .dataframe tbody tr th:only-of-type {\n",
              "        vertical-align: middle;\n",
              "    }\n",
              "\n",
              "    .dataframe tbody tr th {\n",
              "        vertical-align: top;\n",
              "    }\n",
              "\n",
              "    .dataframe thead th {\n",
              "        text-align: right;\n",
              "    }\n",
              "</style>\n",
              "<table border=\"1\" class=\"dataframe\">\n",
              "  <thead>\n",
              "    <tr style=\"text-align: right;\">\n",
              "      <th></th>\n",
              "      <th>Time</th>\n",
              "      <th>Ads</th>\n",
              "    </tr>\n",
              "  </thead>\n",
              "  <tbody>\n",
              "    <tr>\n",
              "      <th>0</th>\n",
              "      <td>2017-09-13 00:00:00</td>\n",
              "      <td>80115</td>\n",
              "    </tr>\n",
              "    <tr>\n",
              "      <th>1</th>\n",
              "      <td>2017-09-13 01:00:00</td>\n",
              "      <td>79885</td>\n",
              "    </tr>\n",
              "    <tr>\n",
              "      <th>2</th>\n",
              "      <td>2017-09-13 02:00:00</td>\n",
              "      <td>89325</td>\n",
              "    </tr>\n",
              "    <tr>\n",
              "      <th>3</th>\n",
              "      <td>2017-09-13 03:00:00</td>\n",
              "      <td>101930</td>\n",
              "    </tr>\n",
              "    <tr>\n",
              "      <th>4</th>\n",
              "      <td>2017-09-13 04:00:00</td>\n",
              "      <td>121630</td>\n",
              "    </tr>\n",
              "  </tbody>\n",
              "</table>\n",
              "</div>"
            ],
            "text/plain": [
              "                 Time     Ads\n",
              "0 2017-09-13 00:00:00   80115\n",
              "1 2017-09-13 01:00:00   79885\n",
              "2 2017-09-13 02:00:00   89325\n",
              "3 2017-09-13 03:00:00  101930\n",
              "4 2017-09-13 04:00:00  121630"
            ]
          },
          "metadata": {
            "tags": []
          },
          "execution_count": 4
        }
      ]
    },
    {
      "cell_type": "markdown",
      "metadata": {
        "id": "Q-REeb5i2g-1"
      },
      "source": [
        "---\n",
        "\n",
        "***3. Use any library to draw a line plot of the Time Series. On `x-axis` show `time` and on `y-axis` show number of `Ads view.`***\n",
        "\n",
        "---"
      ]
    },
    {
      "cell_type": "code",
      "metadata": {
        "colab": {
          "base_uri": "https://localhost:8080/",
          "height": 327
        },
        "id": "Gr6S2CKK2g-2",
        "outputId": "ce9e971e-fd57-4f7c-ba38-79db0ff6027d"
      },
      "source": [
        "# write your code here\n",
        "sns.lineplot(x=\"Time\", y=\"Ads\",data=data_ads)\n",
        "plt.xticks(rotation=90);"
      ],
      "execution_count": null,
      "outputs": [
        {
          "output_type": "display_data",
          "data": {
            "image/png": "[encoded data removed]",
            "text/plain": [
              "<Figure size 432x288 with 1 Axes>"
            ]
          },
          "metadata": {
            "tags": [],
            "needs_background": "light"
          }
        }
      ]
    },
    {
      "cell_type": "markdown",
      "metadata": {
        "id": "5qgDGuEe2g-5"
      },
      "source": [
        "---\n",
        "\n",
        "***4. The data given currently is hourly basis. Aggregate the data on the `day wise` in a new data frame and plot the time series.***\n",
        "\n",
        "---"
      ]
    },
    {
      "cell_type": "code",
      "metadata": {
        "colab": {
          "base_uri": "https://localhost:8080/",
          "height": 327
        },
        "id": "lDGmOFPA2g-5",
        "scrolled": true,
        "outputId": "76223e86-6a2f-4103-ba92-c260885cfe22"
      },
      "source": [
        "# write your code here\n",
        "data_ads['Day'] = data_ads.Time.apply(lambda x: x.day_name())\n",
        "sns.lineplot(x=\"Day\", y=\"Ads\",data=data_ads)\n",
        "plt.xticks(rotation=90);\n"
      ],
      "execution_count": null,
      "outputs": [
        {
          "output_type": "display_data",
          "data": {
            "image/png": "[encoded data removed]",
            "text/plain": [
              "<Figure size 432x288 with 1 Axes>"
            ]
          },
          "metadata": {
            "tags": [],
            "needs_background": "light"
          }
        }
      ]
    },
    {
      "cell_type": "markdown",
      "metadata": {
        "id": "mGzkuIA52g-9"
      },
      "source": [
        "---\n",
        "\n",
        "***5. Use the `Time` feature to create 3 new features. `Month`, `Week`, and `is_week_end`. In the feature `is_week_end`, mark it as 1 if the day is `Saturday or Sunday` otherwise mark it as 0.***\n",
        "\n",
        "---"
      ]
    },
    {
      "cell_type": "code",
      "metadata": {
        "colab": {
          "base_uri": "https://localhost:8080/",
          "height": 204
        },
        "id": "ZRh4d0dp2g-9",
        "outputId": "409f520d-7d94-449a-ff34-7f294ed3600e"
      },
      "source": [
        "# write your code here\n",
        "data_ads['Month'] = data_ads['Time'].dt.month\n",
        "data_ads['Week'] = data_ads['Time'].dt.week\n",
        "data_ads[\"is_week_end\"] = data_ads[\"Day\"].apply(lambda x: 1 if x == \"Saturday\" or x== \"Sunday\" else 0 )\n",
        "\n",
        "\n",
        "data_ads[data_ads[\"Day\"] ==\"Sunday\"].head()\n"
      ],
      "execution_count": null,
      "outputs": [
        {
          "output_type": "execute_result",
          "data": {
            "text/html": [
              "<div>\n",
              "<style scoped>\n",
              "    .dataframe tbody tr th:only-of-type {\n",
              "        vertical-align: middle;\n",
              "    }\n",
              "\n",
              "    .dataframe tbody tr th {\n",
              "        vertical-align: top;\n",
              "    }\n",
              "\n",
              "    .dataframe thead th {\n",
              "        text-align: right;\n",
              "    }\n",
              "</style>\n",
              "<table border=\"1\" class=\"dataframe\">\n",
              "  <thead>\n",
              "    <tr style=\"text-align: right;\">\n",
              "      <th></th>\n",
              "      <th>Time</th>\n",
              "      <th>Ads</th>\n",
              "      <th>Day</th>\n",
              "      <th>Month</th>\n",
              "      <th>Week</th>\n",
              "      <th>is_week_end</th>\n",
              "    </tr>\n",
              "  </thead>\n",
              "  <tbody>\n",
              "    <tr>\n",
              "      <th>96</th>\n",
              "      <td>2017-09-17 00:00:00</td>\n",
              "      <td>89060</td>\n",
              "      <td>Sunday</td>\n",
              "      <td>9</td>\n",
              "      <td>37</td>\n",
              "      <td>1</td>\n",
              "    </tr>\n",
              "    <tr>\n",
              "      <th>97</th>\n",
              "      <td>2017-09-17 01:00:00</td>\n",
              "      <td>89345</td>\n",
              "      <td>Sunday</td>\n",
              "      <td>9</td>\n",
              "      <td>37</td>\n",
              "      <td>1</td>\n",
              "    </tr>\n",
              "    <tr>\n",
              "      <th>98</th>\n",
              "      <td>2017-09-17 02:00:00</td>\n",
              "      <td>90575</td>\n",
              "      <td>Sunday</td>\n",
              "      <td>9</td>\n",
              "      <td>37</td>\n",
              "      <td>1</td>\n",
              "    </tr>\n",
              "    <tr>\n",
              "      <th>99</th>\n",
              "      <td>2017-09-17 03:00:00</td>\n",
              "      <td>98290</td>\n",
              "      <td>Sunday</td>\n",
              "      <td>9</td>\n",
              "      <td>37</td>\n",
              "      <td>1</td>\n",
              "    </tr>\n",
              "    <tr>\n",
              "      <th>100</th>\n",
              "      <td>2017-09-17 04:00:00</td>\n",
              "      <td>112570</td>\n",
              "      <td>Sunday</td>\n",
              "      <td>9</td>\n",
              "      <td>37</td>\n",
              "      <td>1</td>\n",
              "    </tr>\n",
              "  </tbody>\n",
              "</table>\n",
              "</div>"
            ],
            "text/plain": [
              "                   Time     Ads     Day  Month  Week  is_week_end\n",
              "96  2017-09-17 00:00:00   89060  Sunday      9    37            1\n",
              "97  2017-09-17 01:00:00   89345  Sunday      9    37            1\n",
              "98  2017-09-17 02:00:00   90575  Sunday      9    37            1\n",
              "99  2017-09-17 03:00:00   98290  Sunday      9    37            1\n",
              "100 2017-09-17 04:00:00  112570  Sunday      9    37            1"
            ]
          },
          "metadata": {
            "tags": []
          },
          "execution_count": 7
        }
      ]
    },
    {
      "cell_type": "markdown",
      "metadata": {
        "id": "3_6XDXbG2g_A"
      },
      "source": [
        "---\n",
        "\n",
        "***6. Now, Again plot the time-series that you have plotted in the question 3. Now, Add 2 vertical lines (for Saturday and Sunday)on `weekend dates` in the plot like the following image.***\n",
        "\n",
        "---\n",
        "\n",
        "![](images/weekend.png)\n",
        "\n",
        "---"
      ]
    },
    {
      "cell_type": "code",
      "metadata": {
        "colab": {
          "base_uri": "https://localhost:8080/",
          "height": 327
        },
        "id": "tUMcV4-p2g_A",
        "outputId": "09e2656c-949b-428c-ed3e-2031503fe634"
      },
      "source": [
        "sns.lineplot(x=\"Time\", y=\"Ads\", data=data_ads)\n",
        "plt.xticks(rotation=90);\n",
        "\n",
        "for t in data_ads['Time']:\n",
        "    if ((t.dayofweek==5) | (t.dayofweek==6)):\n",
        "      plt.axvline(x=t.date(),color='red', linestyle='--')\n"
      ],
      "execution_count": null,
      "outputs": [
        {
          "output_type": "display_data",
          "data": {
            "image/png": "[encoded data removed]",
            "text/plain": [
              "<Figure size 432x288 with 1 Axes>"
            ]
          },
          "metadata": {
            "tags": [],
            "needs_background": "light"
          }
        }
      ]
    },
    {
      "cell_type": "markdown",
      "metadata": {
        "id": "tzxQimWM2g_C"
      },
      "source": [
        "---\n",
        "\n",
        "### `SECTION 2:`\n",
        "\n",
        "---\n",
        "\n",
        "***Consider the following student dataframe and answer the questions. It is consist of `roll_no`, `name`, `grade`, and `city`.***\n",
        "\n",
        "---"
      ]
    },
    {
      "cell_type": "code",
      "metadata": {
        "colab": {
          "base_uri": "https://localhost:8080/",
          "height": 235
        },
        "id": "y0ae3OL32g_D",
        "outputId": "6d31a195-1e0e-4173-810c-a00acc6fc082"
      },
      "source": [
        "# create student dataframe\n",
        "student_df = pd.DataFrame.from_dict({\n",
        "    'roll_no' : [11, 2, 33, 14, 51, 16],\n",
        "    'name'    : ['AX', 'BO', 'EC', 'ED', 'ET', 'FY'],\n",
        "    'grade'   : ['A+', 'B', 'B+', 'A', 'B', 'B+'],\n",
        "    'city'    : ['gurgaon', 'delhi', 'noida', 'delhi', 'delhi', 'gurgaon']\n",
        "})\n",
        "student_df"
      ],
      "execution_count": null,
      "outputs": [
        {
          "output_type": "execute_result",
          "data": {
            "text/html": [
              "<div>\n",
              "<style scoped>\n",
              "    .dataframe tbody tr th:only-of-type {\n",
              "        vertical-align: middle;\n",
              "    }\n",
              "\n",
              "    .dataframe tbody tr th {\n",
              "        vertical-align: top;\n",
              "    }\n",
              "\n",
              "    .dataframe thead th {\n",
              "        text-align: right;\n",
              "    }\n",
              "</style>\n",
              "<table border=\"1\" class=\"dataframe\">\n",
              "  <thead>\n",
              "    <tr style=\"text-align: right;\">\n",
              "      <th></th>\n",
              "      <th>roll_no</th>\n",
              "      <th>name</th>\n",
              "      <th>grade</th>\n",
              "      <th>city</th>\n",
              "    </tr>\n",
              "  </thead>\n",
              "  <tbody>\n",
              "    <tr>\n",
              "      <th>0</th>\n",
              "      <td>11</td>\n",
              "      <td>AX</td>\n",
              "      <td>A+</td>\n",
              "      <td>gurgaon</td>\n",
              "    </tr>\n",
              "    <tr>\n",
              "      <th>1</th>\n",
              "      <td>2</td>\n",
              "      <td>BO</td>\n",
              "      <td>B</td>\n",
              "      <td>delhi</td>\n",
              "    </tr>\n",
              "    <tr>\n",
              "      <th>2</th>\n",
              "      <td>33</td>\n",
              "      <td>EC</td>\n",
              "      <td>B+</td>\n",
              "      <td>noida</td>\n",
              "    </tr>\n",
              "    <tr>\n",
              "      <th>3</th>\n",
              "      <td>14</td>\n",
              "      <td>ED</td>\n",
              "      <td>A</td>\n",
              "      <td>delhi</td>\n",
              "    </tr>\n",
              "    <tr>\n",
              "      <th>4</th>\n",
              "      <td>51</td>\n",
              "      <td>ET</td>\n",
              "      <td>B</td>\n",
              "      <td>delhi</td>\n",
              "    </tr>\n",
              "    <tr>\n",
              "      <th>5</th>\n",
              "      <td>16</td>\n",
              "      <td>FY</td>\n",
              "      <td>B+</td>\n",
              "      <td>gurgaon</td>\n",
              "    </tr>\n",
              "  </tbody>\n",
              "</table>\n",
              "</div>"
            ],
            "text/plain": [
              "   roll_no name grade     city\n",
              "0       11   AX    A+  gurgaon\n",
              "1        2   BO     B    delhi\n",
              "2       33   EC    B+    noida\n",
              "3       14   ED     A    delhi\n",
              "4       51   ET     B    delhi\n",
              "5       16   FY    B+  gurgaon"
            ]
          },
          "metadata": {
            "tags": []
          },
          "execution_count": 12
        }
      ]
    },
    {
      "cell_type": "markdown",
      "metadata": {
        "id": "9zYHYBPf2g_G"
      },
      "source": [
        "---\n",
        "\n",
        "***7. Sort the dataframe by first city(descending order `{Z-A}`) and then by name.(ascending order `{A-Z}`)***\n",
        "\n",
        "---"
      ]
    },
    {
      "cell_type": "code",
      "metadata": {
        "colab": {
          "base_uri": "https://localhost:8080/",
          "height": 235
        },
        "id": "20WXBsBX2g_G",
        "scrolled": true,
        "outputId": "4dc84b1e-63d0-4624-c5a4-23943e6f1710"
      },
      "source": [
        "# write your code here\n",
        "student_df.sort_values(by=['city', 'name'], ascending=[False, True])"
      ],
      "execution_count": null,
      "outputs": [
        {
          "output_type": "execute_result",
          "data": {
            "text/html": [
              "<div>\n",
              "<style scoped>\n",
              "    .dataframe tbody tr th:only-of-type {\n",
              "        vertical-align: middle;\n",
              "    }\n",
              "\n",
              "    .dataframe tbody tr th {\n",
              "        vertical-align: top;\n",
              "    }\n",
              "\n",
              "    .dataframe thead th {\n",
              "        text-align: right;\n",
              "    }\n",
              "</style>\n",
              "<table border=\"1\" class=\"dataframe\">\n",
              "  <thead>\n",
              "    <tr style=\"text-align: right;\">\n",
              "      <th></th>\n",
              "      <th>roll_no</th>\n",
              "      <th>name</th>\n",
              "      <th>grade</th>\n",
              "      <th>city</th>\n",
              "    </tr>\n",
              "  </thead>\n",
              "  <tbody>\n",
              "    <tr>\n",
              "      <th>2</th>\n",
              "      <td>33</td>\n",
              "      <td>EC</td>\n",
              "      <td>B+</td>\n",
              "      <td>noida</td>\n",
              "    </tr>\n",
              "    <tr>\n",
              "      <th>0</th>\n",
              "      <td>11</td>\n",
              "      <td>AX</td>\n",
              "      <td>A+</td>\n",
              "      <td>gurgaon</td>\n",
              "    </tr>\n",
              "    <tr>\n",
              "      <th>5</th>\n",
              "      <td>16</td>\n",
              "      <td>FY</td>\n",
              "      <td>B+</td>\n",
              "      <td>gurgaon</td>\n",
              "    </tr>\n",
              "    <tr>\n",
              "      <th>1</th>\n",
              "      <td>2</td>\n",
              "      <td>BO</td>\n",
              "      <td>B</td>\n",
              "      <td>delhi</td>\n",
              "    </tr>\n",
              "    <tr>\n",
              "      <th>3</th>\n",
              "      <td>14</td>\n",
              "      <td>ED</td>\n",
              "      <td>A</td>\n",
              "      <td>delhi</td>\n",
              "    </tr>\n",
              "    <tr>\n",
              "      <th>4</th>\n",
              "      <td>51</td>\n",
              "      <td>ET</td>\n",
              "      <td>B</td>\n",
              "      <td>delhi</td>\n",
              "    </tr>\n",
              "  </tbody>\n",
              "</table>\n",
              "</div>"
            ],
            "text/plain": [
              "   roll_no name grade     city\n",
              "2       33   EC    B+    noida\n",
              "0       11   AX    A+  gurgaon\n",
              "5       16   FY    B+  gurgaon\n",
              "1        2   BO     B    delhi\n",
              "3       14   ED     A    delhi\n",
              "4       51   ET     B    delhi"
            ]
          },
          "metadata": {
            "tags": []
          },
          "execution_count": 10
        }
      ]
    },
    {
      "cell_type": "markdown",
      "metadata": {
        "id": "LgNYKho72g_I"
      },
      "source": [
        "---\n",
        "\n",
        "***8. Filter the rows where the city name is `gurgaon`***\n",
        "\n",
        "---"
      ]
    },
    {
      "cell_type": "code",
      "metadata": {
        "colab": {
          "base_uri": "https://localhost:8080/",
          "height": 111
        },
        "id": "Rr-uzkc02g_I",
        "scrolled": true,
        "outputId": "5d21fe45-2249-484f-a25f-6e2a6c8050d7"
      },
      "source": [
        "# write your code here\n",
        "student_df.loc[student_df['city'] == \"gurgaon\"]"
      ],
      "execution_count": null,
      "outputs": [
        {
          "output_type": "execute_result",
          "data": {
            "text/html": [
              "<div>\n",
              "<style scoped>\n",
              "    .dataframe tbody tr th:only-of-type {\n",
              "        vertical-align: middle;\n",
              "    }\n",
              "\n",
              "    .dataframe tbody tr th {\n",
              "        vertical-align: top;\n",
              "    }\n",
              "\n",
              "    .dataframe thead th {\n",
              "        text-align: right;\n",
              "    }\n",
              "</style>\n",
              "<table border=\"1\" class=\"dataframe\">\n",
              "  <thead>\n",
              "    <tr style=\"text-align: right;\">\n",
              "      <th></th>\n",
              "      <th>roll_no</th>\n",
              "      <th>name</th>\n",
              "      <th>grade</th>\n",
              "      <th>city</th>\n",
              "    </tr>\n",
              "  </thead>\n",
              "  <tbody>\n",
              "    <tr>\n",
              "      <th>0</th>\n",
              "      <td>11</td>\n",
              "      <td>AX</td>\n",
              "      <td>A+</td>\n",
              "      <td>gurgaon</td>\n",
              "    </tr>\n",
              "    <tr>\n",
              "      <th>5</th>\n",
              "      <td>16</td>\n",
              "      <td>FY</td>\n",
              "      <td>B+</td>\n",
              "      <td>gurgaon</td>\n",
              "    </tr>\n",
              "  </tbody>\n",
              "</table>\n",
              "</div>"
            ],
            "text/plain": [
              "   roll_no name grade     city\n",
              "0       11   AX    A+  gurgaon\n",
              "5       16   FY    B+  gurgaon"
            ]
          },
          "metadata": {
            "tags": []
          },
          "execution_count": 11
        }
      ]
    },
    {
      "cell_type": "markdown",
      "metadata": {
        "id": "zLFQDkLN2g_K"
      },
      "source": [
        "---\n",
        "\n",
        "***9. Use the loc function and replace the city name `gurgaon` with `gurugram`.***\n",
        "\n",
        "---"
      ]
    },
    {
      "cell_type": "code",
      "metadata": {
        "colab": {
          "base_uri": "https://localhost:8080/",
          "height": 49
        },
        "id": "Y_vzVD1Y2g_L",
        "outputId": "fd9bba0c-71f1-4a8f-fbd5-fab7faea394a"
      },
      "source": [
        "# write your code here\n",
        "student_df.loc[student_df.city.isin([\"gurgaon\"])].replace(\"gurgaon\",\"gurugram\")\n"
      ],
      "execution_count": null,
      "outputs": [
        {
          "output_type": "execute_result",
          "data": {
            "text/html": [
              "<div>\n",
              "<style scoped>\n",
              "    .dataframe tbody tr th:only-of-type {\n",
              "        vertical-align: middle;\n",
              "    }\n",
              "\n",
              "    .dataframe tbody tr th {\n",
              "        vertical-align: top;\n",
              "    }\n",
              "\n",
              "    .dataframe thead th {\n",
              "        text-align: right;\n",
              "    }\n",
              "</style>\n",
              "<table border=\"1\" class=\"dataframe\">\n",
              "  <thead>\n",
              "    <tr style=\"text-align: right;\">\n",
              "      <th></th>\n",
              "      <th>roll_no</th>\n",
              "      <th>name</th>\n",
              "      <th>grade</th>\n",
              "      <th>city</th>\n",
              "    </tr>\n",
              "  </thead>\n",
              "  <tbody>\n",
              "  </tbody>\n",
              "</table>\n",
              "</div>"
            ],
            "text/plain": [
              "Empty DataFrame\n",
              "Columns: [roll_no, name, grade, city]\n",
              "Index: []"
            ]
          },
          "metadata": {
            "tags": []
          },
          "execution_count": 14
        }
      ]
    },
    {
      "cell_type": "code",
      "metadata": {
        "colab": {
          "base_uri": "https://localhost:8080/",
          "height": 235
        },
        "id": "0T0XHx-56ao4",
        "outputId": "00481420-97b1-42ec-f53f-0801b3ca6123"
      },
      "source": [
        "student_df"
      ],
      "execution_count": null,
      "outputs": [
        {
          "output_type": "execute_result",
          "data": {
            "text/html": [
              "<div>\n",
              "<style scoped>\n",
              "    .dataframe tbody tr th:only-of-type {\n",
              "        vertical-align: middle;\n",
              "    }\n",
              "\n",
              "    .dataframe tbody tr th {\n",
              "        vertical-align: top;\n",
              "    }\n",
              "\n",
              "    .dataframe thead th {\n",
              "        text-align: right;\n",
              "    }\n",
              "</style>\n",
              "<table border=\"1\" class=\"dataframe\">\n",
              "  <thead>\n",
              "    <tr style=\"text-align: right;\">\n",
              "      <th></th>\n",
              "      <th>roll_no</th>\n",
              "      <th>name</th>\n",
              "      <th>grade</th>\n",
              "      <th>city</th>\n",
              "    </tr>\n",
              "  </thead>\n",
              "  <tbody>\n",
              "    <tr>\n",
              "      <th>0</th>\n",
              "      <td>11</td>\n",
              "      <td>AX</td>\n",
              "      <td>A+</td>\n",
              "      <td>gurugram</td>\n",
              "    </tr>\n",
              "    <tr>\n",
              "      <th>1</th>\n",
              "      <td>2</td>\n",
              "      <td>BO</td>\n",
              "      <td>B</td>\n",
              "      <td>delhi</td>\n",
              "    </tr>\n",
              "    <tr>\n",
              "      <th>2</th>\n",
              "      <td>33</td>\n",
              "      <td>EC</td>\n",
              "      <td>B+</td>\n",
              "      <td>noida</td>\n",
              "    </tr>\n",
              "    <tr>\n",
              "      <th>3</th>\n",
              "      <td>14</td>\n",
              "      <td>ED</td>\n",
              "      <td>A</td>\n",
              "      <td>delhi</td>\n",
              "    </tr>\n",
              "    <tr>\n",
              "      <th>4</th>\n",
              "      <td>51</td>\n",
              "      <td>ET</td>\n",
              "      <td>B</td>\n",
              "      <td>delhi</td>\n",
              "    </tr>\n",
              "    <tr>\n",
              "      <th>5</th>\n",
              "      <td>16</td>\n",
              "      <td>FY</td>\n",
              "      <td>B+</td>\n",
              "      <td>gurugram</td>\n",
              "    </tr>\n",
              "  </tbody>\n",
              "</table>\n",
              "</div>"
            ],
            "text/plain": [
              "   roll_no name grade      city\n",
              "0       11   AX    A+  gurugram\n",
              "1        2   BO     B     delhi\n",
              "2       33   EC    B+     noida\n",
              "3       14   ED     A     delhi\n",
              "4       51   ET     B     delhi\n",
              "5       16   FY    B+  gurugram"
            ]
          },
          "metadata": {
            "tags": []
          },
          "execution_count": 15
        }
      ]
    },
    {
      "cell_type": "markdown",
      "metadata": {
        "id": "vE6hFYp12g_P"
      },
      "source": [
        "---\n",
        "\n",
        "***Now, we have created another dataframe `favorite_subject_df` which has student `roll_no` and `favorite_subject`***\n",
        "\n",
        "---"
      ]
    },
    {
      "cell_type": "code",
      "metadata": {
        "colab": {
          "base_uri": "https://localhost:8080/",
          "height": 327
        },
        "id": "ricOpRlt2g_Q",
        "outputId": "31e8e273-9215-423e-8435-13d100b8eeea"
      },
      "source": [
        "# create the dataframe\n",
        "favorite_subject_df = pd.DataFrame.from_dict({\n",
        "    'Roll_no' : [ 2, 14, 15, 5, 11, 33, 51, 55, 16],\n",
        "    'favorite_subject' : ['Maths', 'Science', 'Science', 'Physics', 'Maths', \n",
        "                          'Computer', 'English', 'Maths', 'Biology']\n",
        "})\n",
        "favorite_subject_df"
      ],
      "execution_count": null,
      "outputs": [
        {
          "output_type": "execute_result",
          "data": {
            "text/html": [
              "<div>\n",
              "<style scoped>\n",
              "    .dataframe tbody tr th:only-of-type {\n",
              "        vertical-align: middle;\n",
              "    }\n",
              "\n",
              "    .dataframe tbody tr th {\n",
              "        vertical-align: top;\n",
              "    }\n",
              "\n",
              "    .dataframe thead th {\n",
              "        text-align: right;\n",
              "    }\n",
              "</style>\n",
              "<table border=\"1\" class=\"dataframe\">\n",
              "  <thead>\n",
              "    <tr style=\"text-align: right;\">\n",
              "      <th></th>\n",
              "      <th>Roll_no</th>\n",
              "      <th>favorite_subject</th>\n",
              "    </tr>\n",
              "  </thead>\n",
              "  <tbody>\n",
              "    <tr>\n",
              "      <th>0</th>\n",
              "      <td>2</td>\n",
              "      <td>Maths</td>\n",
              "    </tr>\n",
              "    <tr>\n",
              "      <th>1</th>\n",
              "      <td>14</td>\n",
              "      <td>Science</td>\n",
              "    </tr>\n",
              "    <tr>\n",
              "      <th>2</th>\n",
              "      <td>15</td>\n",
              "      <td>Science</td>\n",
              "    </tr>\n",
              "    <tr>\n",
              "      <th>3</th>\n",
              "      <td>5</td>\n",
              "      <td>Physics</td>\n",
              "    </tr>\n",
              "    <tr>\n",
              "      <th>4</th>\n",
              "      <td>11</td>\n",
              "      <td>Maths</td>\n",
              "    </tr>\n",
              "    <tr>\n",
              "      <th>5</th>\n",
              "      <td>33</td>\n",
              "      <td>Computer</td>\n",
              "    </tr>\n",
              "    <tr>\n",
              "      <th>6</th>\n",
              "      <td>51</td>\n",
              "      <td>English</td>\n",
              "    </tr>\n",
              "    <tr>\n",
              "      <th>7</th>\n",
              "      <td>55</td>\n",
              "      <td>Maths</td>\n",
              "    </tr>\n",
              "    <tr>\n",
              "      <th>8</th>\n",
              "      <td>16</td>\n",
              "      <td>Biology</td>\n",
              "    </tr>\n",
              "  </tbody>\n",
              "</table>\n",
              "</div>"
            ],
            "text/plain": [
              "   Roll_no favorite_subject\n",
              "0        2            Maths\n",
              "1       14          Science\n",
              "2       15          Science\n",
              "3        5          Physics\n",
              "4       11            Maths\n",
              "5       33         Computer\n",
              "6       51          English\n",
              "7       55            Maths\n",
              "8       16          Biology"
            ]
          },
          "metadata": {
            "tags": []
          },
          "execution_count": 13
        }
      ]
    },
    {
      "cell_type": "markdown",
      "metadata": {
        "id": "xpIC0ua42g_S"
      },
      "source": [
        "---\n",
        "\n",
        "***10. Use to appropriate join to add the favorite subject to the student dataframe.***\n",
        "\n",
        "---"
      ]
    },
    {
      "cell_type": "code",
      "metadata": {
        "colab": {
          "base_uri": "https://localhost:8080/",
          "height": 235
        },
        "id": "3o5jJAV92g_S",
        "scrolled": true,
        "outputId": "ddcd3aad-a6ce-45aa-ce06-a78505429e8c"
      },
      "source": [
        "# write your code here\n",
        "favorite_subject_df.columns = ['roll_no','favorite_subject']\n",
        "student_df.merge(favorite_subject_df, on='roll_no', how='inner')\n"
      ],
      "execution_count": null,
      "outputs": [
        {
          "output_type": "execute_result",
          "data": {
            "text/html": [
              "<div>\n",
              "<style scoped>\n",
              "    .dataframe tbody tr th:only-of-type {\n",
              "        vertical-align: middle;\n",
              "    }\n",
              "\n",
              "    .dataframe tbody tr th {\n",
              "        vertical-align: top;\n",
              "    }\n",
              "\n",
              "    .dataframe thead th {\n",
              "        text-align: right;\n",
              "    }\n",
              "</style>\n",
              "<table border=\"1\" class=\"dataframe\">\n",
              "  <thead>\n",
              "    <tr style=\"text-align: right;\">\n",
              "      <th></th>\n",
              "      <th>roll_no</th>\n",
              "      <th>name</th>\n",
              "      <th>grade</th>\n",
              "      <th>city</th>\n",
              "      <th>favorite_subject</th>\n",
              "    </tr>\n",
              "  </thead>\n",
              "  <tbody>\n",
              "    <tr>\n",
              "      <th>0</th>\n",
              "      <td>11</td>\n",
              "      <td>AX</td>\n",
              "      <td>A+</td>\n",
              "      <td>gurugram</td>\n",
              "      <td>Maths</td>\n",
              "    </tr>\n",
              "    <tr>\n",
              "      <th>1</th>\n",
              "      <td>2</td>\n",
              "      <td>BO</td>\n",
              "      <td>B</td>\n",
              "      <td>delhi</td>\n",
              "      <td>Maths</td>\n",
              "    </tr>\n",
              "    <tr>\n",
              "      <th>2</th>\n",
              "      <td>33</td>\n",
              "      <td>EC</td>\n",
              "      <td>B+</td>\n",
              "      <td>noida</td>\n",
              "      <td>Computer</td>\n",
              "    </tr>\n",
              "    <tr>\n",
              "      <th>3</th>\n",
              "      <td>14</td>\n",
              "      <td>ED</td>\n",
              "      <td>A</td>\n",
              "      <td>delhi</td>\n",
              "      <td>Science</td>\n",
              "    </tr>\n",
              "    <tr>\n",
              "      <th>4</th>\n",
              "      <td>51</td>\n",
              "      <td>ET</td>\n",
              "      <td>B</td>\n",
              "      <td>delhi</td>\n",
              "      <td>English</td>\n",
              "    </tr>\n",
              "    <tr>\n",
              "      <th>5</th>\n",
              "      <td>16</td>\n",
              "      <td>FY</td>\n",
              "      <td>B+</td>\n",
              "      <td>gurugram</td>\n",
              "      <td>Biology</td>\n",
              "    </tr>\n",
              "  </tbody>\n",
              "</table>\n",
              "</div>"
            ],
            "text/plain": [
              "   roll_no name grade      city favorite_subject\n",
              "0       11   AX    A+  gurugram            Maths\n",
              "1        2   BO     B     delhi            Maths\n",
              "2       33   EC    B+     noida         Computer\n",
              "3       14   ED     A     delhi          Science\n",
              "4       51   ET     B     delhi          English\n",
              "5       16   FY    B+  gurugram          Biology"
            ]
          },
          "metadata": {
            "tags": []
          },
          "execution_count": 10
        }
      ]
    },
    {
      "cell_type": "markdown",
      "metadata": {
        "id": "qEk6AeD32g_V"
      },
      "source": [
        "---\n",
        "### `SECTION 3:`\n",
        "\n",
        "---\n",
        "\n",
        "***Now, we will read the titanic dataset.***\n",
        "\n",
        "---"
      ]
    },
    {
      "cell_type": "code",
      "metadata": {
        "id": "oWGSe6mG2g_W"
      },
      "source": [
        "# read the dataset\n",
        "titanic_data = pd.read_csv('titanic.csv')"
      ],
      "execution_count": null,
      "outputs": []
    },
    {
      "cell_type": "code",
      "metadata": {
        "colab": {
          "base_uri": "https://localhost:8080/",
          "height": 204
        },
        "id": "BsFHhlna2g_Y",
        "outputId": "45ead5a6-b16d-4b4a-f045-6d27f940024f"
      },
      "source": [
        "# view the top rows of the data\n",
        "titanic_data.head()"
      ],
      "execution_count": null,
      "outputs": [
        {
          "output_type": "execute_result",
          "data": {
            "text/html": [
              "<div>\n",
              "<style scoped>\n",
              "    .dataframe tbody tr th:only-of-type {\n",
              "        vertical-align: middle;\n",
              "    }\n",
              "\n",
              "    .dataframe tbody tr th {\n",
              "        vertical-align: top;\n",
              "    }\n",
              "\n",
              "    .dataframe thead th {\n",
              "        text-align: right;\n",
              "    }\n",
              "</style>\n",
              "<table border=\"1\" class=\"dataframe\">\n",
              "  <thead>\n",
              "    <tr style=\"text-align: right;\">\n",
              "      <th></th>\n",
              "      <th>PassengerId</th>\n",
              "      <th>Survived</th>\n",
              "      <th>Pclass</th>\n",
              "      <th>Name</th>\n",
              "      <th>Sex</th>\n",
              "      <th>Age</th>\n",
              "      <th>SibSp</th>\n",
              "      <th>Parch</th>\n",
              "      <th>Ticket</th>\n",
              "      <th>Fare</th>\n",
              "      <th>Cabin</th>\n",
              "      <th>Embarked</th>\n",
              "    </tr>\n",
              "  </thead>\n",
              "  <tbody>\n",
              "    <tr>\n",
              "      <th>0</th>\n",
              "      <td>1</td>\n",
              "      <td>0</td>\n",
              "      <td>3</td>\n",
              "      <td>Mr. Owen Harris</td>\n",
              "      <td>male</td>\n",
              "      <td>22.0</td>\n",
              "      <td>1</td>\n",
              "      <td>0</td>\n",
              "      <td>A/5 21171</td>\n",
              "      <td>7.2500</td>\n",
              "      <td>NaN</td>\n",
              "      <td>S</td>\n",
              "    </tr>\n",
              "    <tr>\n",
              "      <th>1</th>\n",
              "      <td>2</td>\n",
              "      <td>1</td>\n",
              "      <td>1</td>\n",
              "      <td>Mrs. John Bradley (Florence Briggs Thayer)</td>\n",
              "      <td>female</td>\n",
              "      <td>38.0</td>\n",
              "      <td>1</td>\n",
              "      <td>0</td>\n",
              "      <td>PC 17599</td>\n",
              "      <td>71.2833</td>\n",
              "      <td>C85</td>\n",
              "      <td>C</td>\n",
              "    </tr>\n",
              "    <tr>\n",
              "      <th>2</th>\n",
              "      <td>3</td>\n",
              "      <td>1</td>\n",
              "      <td>3</td>\n",
              "      <td>Miss. Laina</td>\n",
              "      <td>female</td>\n",
              "      <td>26.0</td>\n",
              "      <td>0</td>\n",
              "      <td>0</td>\n",
              "      <td>STON/O2. 3101282</td>\n",
              "      <td>7925.0000</td>\n",
              "      <td>NaN</td>\n",
              "      <td>S</td>\n",
              "    </tr>\n",
              "    <tr>\n",
              "      <th>3</th>\n",
              "      <td>4</td>\n",
              "      <td>1</td>\n",
              "      <td>1</td>\n",
              "      <td>Mrs. Jacques Heath (Lily May Peel)</td>\n",
              "      <td>female</td>\n",
              "      <td>35.0</td>\n",
              "      <td>1</td>\n",
              "      <td>0</td>\n",
              "      <td>113803</td>\n",
              "      <td>53.1000</td>\n",
              "      <td>C123</td>\n",
              "      <td>S</td>\n",
              "    </tr>\n",
              "    <tr>\n",
              "      <th>4</th>\n",
              "      <td>5</td>\n",
              "      <td>0</td>\n",
              "      <td>3</td>\n",
              "      <td>Mr. William Henry</td>\n",
              "      <td>male</td>\n",
              "      <td>35.0</td>\n",
              "      <td>0</td>\n",
              "      <td>0</td>\n",
              "      <td>373450</td>\n",
              "      <td>8.0500</td>\n",
              "      <td>NaN</td>\n",
              "      <td>S</td>\n",
              "    </tr>\n",
              "  </tbody>\n",
              "</table>\n",
              "</div>"
            ],
            "text/plain": [
              "   PassengerId  Survived  Pclass  ...       Fare Cabin  Embarked\n",
              "0            1         0       3  ...     7.2500   NaN         S\n",
              "1            2         1       1  ...    71.2833   C85         C\n",
              "2            3         1       3  ...  7925.0000   NaN         S\n",
              "3            4         1       1  ...    53.1000  C123         S\n",
              "4            5         0       3  ...     8.0500   NaN         S\n",
              "\n",
              "[5 rows x 12 columns]"
            ]
          },
          "metadata": {
            "tags": []
          },
          "execution_count": 3
        }
      ]
    },
    {
      "cell_type": "markdown",
      "metadata": {
        "id": "iphcyd4O2g_a"
      },
      "source": [
        "---\n",
        "\n",
        "***11. Find the total number of passengers `Survived and Not Survived` for each category in `Sex` using a groupby or pivot table.***\n",
        "\n",
        "---"
      ]
    },
    {
      "cell_type": "code",
      "metadata": {
        "colab": {
          "base_uri": "https://localhost:8080/",
          "height": 204
        },
        "id": "OmeSOa9E2g_a",
        "outputId": "4468a8e6-7934-4c21-9122-44957bb01f42"
      },
      "source": [
        "# write your code here\n",
        "titanic_data.groupby(by=['Survived', 'Sex']).agg(['count'])[\"PassengerId\"]"
      ],
      "execution_count": null,
      "outputs": [
        {
          "output_type": "execute_result",
          "data": {
            "text/html": [
              "<div>\n",
              "<style scoped>\n",
              "    .dataframe tbody tr th:only-of-type {\n",
              "        vertical-align: middle;\n",
              "    }\n",
              "\n",
              "    .dataframe tbody tr th {\n",
              "        vertical-align: top;\n",
              "    }\n",
              "\n",
              "    .dataframe thead th {\n",
              "        text-align: right;\n",
              "    }\n",
              "</style>\n",
              "<table border=\"1\" class=\"dataframe\">\n",
              "  <thead>\n",
              "    <tr style=\"text-align: right;\">\n",
              "      <th></th>\n",
              "      <th></th>\n",
              "      <th>count</th>\n",
              "    </tr>\n",
              "    <tr>\n",
              "      <th>Survived</th>\n",
              "      <th>Sex</th>\n",
              "      <th></th>\n",
              "    </tr>\n",
              "  </thead>\n",
              "  <tbody>\n",
              "    <tr>\n",
              "      <th rowspan=\"2\" valign=\"top\">0</th>\n",
              "      <th>female</th>\n",
              "      <td>81</td>\n",
              "    </tr>\n",
              "    <tr>\n",
              "      <th>male</th>\n",
              "      <td>468</td>\n",
              "    </tr>\n",
              "    <tr>\n",
              "      <th rowspan=\"2\" valign=\"top\">1</th>\n",
              "      <th>female</th>\n",
              "      <td>233</td>\n",
              "    </tr>\n",
              "    <tr>\n",
              "      <th>male</th>\n",
              "      <td>109</td>\n",
              "    </tr>\n",
              "  </tbody>\n",
              "</table>\n",
              "</div>"
            ],
            "text/plain": [
              "                 count\n",
              "Survived Sex          \n",
              "0        female     81\n",
              "         male      468\n",
              "1        female    233\n",
              "         male      109"
            ]
          },
          "metadata": {
            "tags": []
          },
          "execution_count": 16
        }
      ]
    },
    {
      "cell_type": "markdown",
      "metadata": {
        "id": "b-tfFDm_2g_c"
      },
      "source": [
        "***12. In the `Name` column there is a pattern in the title of the person like `Mr, Mrs, Miss`. Use this pattern and create new feature as the `title` using the lambda expressions.***\n",
        "\n",
        "---"
      ]
    },
    {
      "cell_type": "code",
      "metadata": {
        "colab": {
          "base_uri": "https://localhost:8080/",
          "height": 204
        },
        "id": "WiDfvUz_2g_c",
        "outputId": "a8abeef5-049c-4341-ed1e-9f66bc9fa50e"
      },
      "source": [
        "# write your code here\n",
        "titanic_data[\"Title\"] = titanic_data[\"Name\"].apply(lambda x :x.split(\".\")[0])\n",
        "titanic_data.head()\n"
      ],
      "execution_count": null,
      "outputs": [
        {
          "output_type": "execute_result",
          "data": {
            "text/html": [
              "<div>\n",
              "<style scoped>\n",
              "    .dataframe tbody tr th:only-of-type {\n",
              "        vertical-align: middle;\n",
              "    }\n",
              "\n",
              "    .dataframe tbody tr th {\n",
              "        vertical-align: top;\n",
              "    }\n",
              "\n",
              "    .dataframe thead th {\n",
              "        text-align: right;\n",
              "    }\n",
              "</style>\n",
              "<table border=\"1\" class=\"dataframe\">\n",
              "  <thead>\n",
              "    <tr style=\"text-align: right;\">\n",
              "      <th></th>\n",
              "      <th>PassengerId</th>\n",
              "      <th>Survived</th>\n",
              "      <th>Pclass</th>\n",
              "      <th>Name</th>\n",
              "      <th>Sex</th>\n",
              "      <th>Age</th>\n",
              "      <th>SibSp</th>\n",
              "      <th>Parch</th>\n",
              "      <th>Ticket</th>\n",
              "      <th>Fare</th>\n",
              "      <th>Cabin</th>\n",
              "      <th>Embarked</th>\n",
              "      <th>Title</th>\n",
              "    </tr>\n",
              "  </thead>\n",
              "  <tbody>\n",
              "    <tr>\n",
              "      <th>0</th>\n",
              "      <td>1</td>\n",
              "      <td>0</td>\n",
              "      <td>3</td>\n",
              "      <td>Mr. Owen Harris</td>\n",
              "      <td>male</td>\n",
              "      <td>22.0</td>\n",
              "      <td>1</td>\n",
              "      <td>0</td>\n",
              "      <td>A/5 21171</td>\n",
              "      <td>7.2500</td>\n",
              "      <td>NaN</td>\n",
              "      <td>S</td>\n",
              "      <td>Mr</td>\n",
              "    </tr>\n",
              "    <tr>\n",
              "      <th>1</th>\n",
              "      <td>2</td>\n",
              "      <td>1</td>\n",
              "      <td>1</td>\n",
              "      <td>Mrs. John Bradley (Florence Briggs Thayer)</td>\n",
              "      <td>female</td>\n",
              "      <td>38.0</td>\n",
              "      <td>1</td>\n",
              "      <td>0</td>\n",
              "      <td>PC 17599</td>\n",
              "      <td>71.2833</td>\n",
              "      <td>C85</td>\n",
              "      <td>C</td>\n",
              "      <td>Mrs</td>\n",
              "    </tr>\n",
              "    <tr>\n",
              "      <th>2</th>\n",
              "      <td>3</td>\n",
              "      <td>1</td>\n",
              "      <td>3</td>\n",
              "      <td>Miss. Laina</td>\n",
              "      <td>female</td>\n",
              "      <td>26.0</td>\n",
              "      <td>0</td>\n",
              "      <td>0</td>\n",
              "      <td>STON/O2. 3101282</td>\n",
              "      <td>7925.0000</td>\n",
              "      <td>NaN</td>\n",
              "      <td>S</td>\n",
              "      <td>Miss</td>\n",
              "    </tr>\n",
              "    <tr>\n",
              "      <th>3</th>\n",
              "      <td>4</td>\n",
              "      <td>1</td>\n",
              "      <td>1</td>\n",
              "      <td>Mrs. Jacques Heath (Lily May Peel)</td>\n",
              "      <td>female</td>\n",
              "      <td>35.0</td>\n",
              "      <td>1</td>\n",
              "      <td>0</td>\n",
              "      <td>113803</td>\n",
              "      <td>53.1000</td>\n",
              "      <td>C123</td>\n",
              "      <td>S</td>\n",
              "      <td>Mrs</td>\n",
              "    </tr>\n",
              "    <tr>\n",
              "      <th>4</th>\n",
              "      <td>5</td>\n",
              "      <td>0</td>\n",
              "      <td>3</td>\n",
              "      <td>Mr. William Henry</td>\n",
              "      <td>male</td>\n",
              "      <td>35.0</td>\n",
              "      <td>0</td>\n",
              "      <td>0</td>\n",
              "      <td>373450</td>\n",
              "      <td>8.0500</td>\n",
              "      <td>NaN</td>\n",
              "      <td>S</td>\n",
              "      <td>Mr</td>\n",
              "    </tr>\n",
              "  </tbody>\n",
              "</table>\n",
              "</div>"
            ],
            "text/plain": [
              "   PassengerId  Survived  Pclass  ... Cabin Embarked  Title\n",
              "0            1         0       3  ...   NaN        S     Mr\n",
              "1            2         1       1  ...   C85        C    Mrs\n",
              "2            3         1       3  ...   NaN        S   Miss\n",
              "3            4         1       1  ...  C123        S    Mrs\n",
              "4            5         0       3  ...   NaN        S     Mr\n",
              "\n",
              "[5 rows x 13 columns]"
            ]
          },
          "metadata": {
            "tags": []
          },
          "execution_count": 17
        }
      ]
    },
    {
      "cell_type": "markdown",
      "metadata": {
        "id": "-YXnOQd52g_e"
      },
      "source": [
        "---\n",
        "\n",
        "***13. Find out the total number of passengers with each title(feature created in last step).***\n",
        "\n",
        "----"
      ]
    },
    {
      "cell_type": "code",
      "metadata": {
        "colab": {
          "base_uri": "https://localhost:8080/"
        },
        "id": "XY9nMz212g_e",
        "scrolled": true,
        "outputId": "f5a1c6a6-08be-4c43-9f16-9fb81d5f36dd"
      },
      "source": [
        "# write your code here\n",
        "titanic_data[\"Title\"].value_counts()\n"
      ],
      "execution_count": null,
      "outputs": [
        {
          "output_type": "execute_result",
          "data": {
            "text/plain": [
              " Mr              517\n",
              " Miss            182\n",
              " Mrs             125\n",
              " Master           40\n",
              " Dr                7\n",
              " Rev               6\n",
              " Mlle              2\n",
              " Major             2\n",
              " Col               2\n",
              " Don               1\n",
              " the Countess      1\n",
              " Ms                1\n",
              " Mme               1\n",
              " Jonkheer          1\n",
              " Capt              1\n",
              " Lady              1\n",
              " Sir               1\n",
              "Name: Title, dtype: int64"
            ]
          },
          "metadata": {
            "tags": []
          },
          "execution_count": 18
        }
      ]
    },
    {
      "cell_type": "markdown",
      "metadata": {
        "id": "pD9kE0ba2g_g"
      },
      "source": [
        "---\n",
        "\n",
        "***14. Create a new column `age_bins`. Divide the age into 4 different categories `0-20`, `20-40`, `40-60`, `60+`***\n",
        "\n",
        "---"
      ]
    },
    {
      "cell_type": "code",
      "metadata": {
        "colab": {
          "base_uri": "https://localhost:8080/",
          "height": 204
        },
        "id": "iMGUfUWh2g_h",
        "outputId": "bd198eb1-bf4c-4015-8ddc-547805836376"
      },
      "source": [
        "# write your code here\n",
        "bins= [0,20,40,60,80]\n",
        "labels = ['0-20','20-40','40-60','60+']\n",
        "titanic_data[\"age_bins\"] = pd.cut(titanic_data['Age'], bins=bins, labels=labels, right=False)\n",
        "titanic_data.head()"
      ],
      "execution_count": null,
      "outputs": [
        {
          "output_type": "execute_result",
          "data": {
            "text/html": [
              "<div>\n",
              "<style scoped>\n",
              "    .dataframe tbody tr th:only-of-type {\n",
              "        vertical-align: middle;\n",
              "    }\n",
              "\n",
              "    .dataframe tbody tr th {\n",
              "        vertical-align: top;\n",
              "    }\n",
              "\n",
              "    .dataframe thead th {\n",
              "        text-align: right;\n",
              "    }\n",
              "</style>\n",
              "<table border=\"1\" class=\"dataframe\">\n",
              "  <thead>\n",
              "    <tr style=\"text-align: right;\">\n",
              "      <th></th>\n",
              "      <th>PassengerId</th>\n",
              "      <th>Survived</th>\n",
              "      <th>Pclass</th>\n",
              "      <th>Name</th>\n",
              "      <th>Sex</th>\n",
              "      <th>Age</th>\n",
              "      <th>SibSp</th>\n",
              "      <th>Parch</th>\n",
              "      <th>Ticket</th>\n",
              "      <th>Fare</th>\n",
              "      <th>Cabin</th>\n",
              "      <th>Embarked</th>\n",
              "      <th>Title</th>\n",
              "      <th>age_bins</th>\n",
              "    </tr>\n",
              "  </thead>\n",
              "  <tbody>\n",
              "    <tr>\n",
              "      <th>0</th>\n",
              "      <td>1</td>\n",
              "      <td>0</td>\n",
              "      <td>3</td>\n",
              "      <td>Mr. Owen Harris</td>\n",
              "      <td>male</td>\n",
              "      <td>22.0</td>\n",
              "      <td>1</td>\n",
              "      <td>0</td>\n",
              "      <td>A/5 21171</td>\n",
              "      <td>7.2500</td>\n",
              "      <td>NaN</td>\n",
              "      <td>S</td>\n",
              "      <td>Mr</td>\n",
              "      <td>20-40</td>\n",
              "    </tr>\n",
              "    <tr>\n",
              "      <th>1</th>\n",
              "      <td>2</td>\n",
              "      <td>1</td>\n",
              "      <td>1</td>\n",
              "      <td>Mrs. John Bradley (Florence Briggs Thayer)</td>\n",
              "      <td>female</td>\n",
              "      <td>38.0</td>\n",
              "      <td>1</td>\n",
              "      <td>0</td>\n",
              "      <td>PC 17599</td>\n",
              "      <td>71.2833</td>\n",
              "      <td>C85</td>\n",
              "      <td>C</td>\n",
              "      <td>Mrs</td>\n",
              "      <td>20-40</td>\n",
              "    </tr>\n",
              "    <tr>\n",
              "      <th>2</th>\n",
              "      <td>3</td>\n",
              "      <td>1</td>\n",
              "      <td>3</td>\n",
              "      <td>Miss. Laina</td>\n",
              "      <td>female</td>\n",
              "      <td>26.0</td>\n",
              "      <td>0</td>\n",
              "      <td>0</td>\n",
              "      <td>STON/O2. 3101282</td>\n",
              "      <td>7925.0000</td>\n",
              "      <td>NaN</td>\n",
              "      <td>S</td>\n",
              "      <td>Miss</td>\n",
              "      <td>20-40</td>\n",
              "    </tr>\n",
              "    <tr>\n",
              "      <th>3</th>\n",
              "      <td>4</td>\n",
              "      <td>1</td>\n",
              "      <td>1</td>\n",
              "      <td>Mrs. Jacques Heath (Lily May Peel)</td>\n",
              "      <td>female</td>\n",
              "      <td>35.0</td>\n",
              "      <td>1</td>\n",
              "      <td>0</td>\n",
              "      <td>113803</td>\n",
              "      <td>53.1000</td>\n",
              "      <td>C123</td>\n",
              "      <td>S</td>\n",
              "      <td>Mrs</td>\n",
              "      <td>20-40</td>\n",
              "    </tr>\n",
              "    <tr>\n",
              "      <th>4</th>\n",
              "      <td>5</td>\n",
              "      <td>0</td>\n",
              "      <td>3</td>\n",
              "      <td>Mr. William Henry</td>\n",
              "      <td>male</td>\n",
              "      <td>35.0</td>\n",
              "      <td>0</td>\n",
              "      <td>0</td>\n",
              "      <td>373450</td>\n",
              "      <td>8.0500</td>\n",
              "      <td>NaN</td>\n",
              "      <td>S</td>\n",
              "      <td>Mr</td>\n",
              "      <td>20-40</td>\n",
              "    </tr>\n",
              "  </tbody>\n",
              "</table>\n",
              "</div>"
            ],
            "text/plain": [
              "   PassengerId  Survived  Pclass  ... Embarked  Title  age_bins\n",
              "0            1         0       3  ...        S     Mr     20-40\n",
              "1            2         1       1  ...        C    Mrs     20-40\n",
              "2            3         1       3  ...        S   Miss     20-40\n",
              "3            4         1       1  ...        S    Mrs     20-40\n",
              "4            5         0       3  ...        S     Mr     20-40\n",
              "\n",
              "[5 rows x 14 columns]"
            ]
          },
          "metadata": {
            "tags": []
          },
          "execution_count": 22
        }
      ]
    },
    {
      "cell_type": "markdown",
      "metadata": {
        "id": "-4Id2PVJ2g_k"
      },
      "source": [
        "---\n",
        "\n",
        "***15. One-Hot Encode the features `age_bins`(created in last step) and `title`. Import the required libraries also.***\n",
        "\n",
        "---"
      ]
    },
    {
      "cell_type": "code",
      "metadata": {
        "colab": {
          "base_uri": "https://localhost:8080/",
          "height": 472
        },
        "id": "Sa6_yjzpMOkE",
        "outputId": "a9b620ad-d833-4fdd-bf6d-2531d764317e"
      },
      "source": [
        "pd.get_dummies(titanic_data[['Title','age_bins']])"
      ],
      "execution_count": null,
      "outputs": [
        {
          "output_type": "execute_result",
          "data": {
            "text/html": [
              "<div>\n",
              "<style scoped>\n",
              "    .dataframe tbody tr th:only-of-type {\n",
              "        vertical-align: middle;\n",
              "    }\n",
              "\n",
              "    .dataframe tbody tr th {\n",
              "        vertical-align: top;\n",
              "    }\n",
              "\n",
              "    .dataframe thead th {\n",
              "        text-align: right;\n",
              "    }\n",
              "</style>\n",
              "<table border=\"1\" class=\"dataframe\">\n",
              "  <thead>\n",
              "    <tr style=\"text-align: right;\">\n",
              "      <th></th>\n",
              "      <th>Title_ Capt</th>\n",
              "      <th>Title_ Col</th>\n",
              "      <th>Title_ Don</th>\n",
              "      <th>Title_ Dr</th>\n",
              "      <th>Title_ Jonkheer</th>\n",
              "      <th>Title_ Lady</th>\n",
              "      <th>Title_ Major</th>\n",
              "      <th>Title_ Master</th>\n",
              "      <th>Title_ Miss</th>\n",
              "      <th>Title_ Mlle</th>\n",
              "      <th>Title_ Mme</th>\n",
              "      <th>Title_ Mr</th>\n",
              "      <th>Title_ Mrs</th>\n",
              "      <th>Title_ Ms</th>\n",
              "      <th>Title_ Rev</th>\n",
              "      <th>Title_ Sir</th>\n",
              "      <th>Title_ the Countess</th>\n",
              "      <th>age_bins_0-20</th>\n",
              "      <th>age_bins_20-40</th>\n",
              "      <th>age_bins_40-60</th>\n",
              "      <th>age_bins_60+</th>\n",
              "    </tr>\n",
              "  </thead>\n",
              "  <tbody>\n",
              "    <tr>\n",
              "      <th>0</th>\n",
              "      <td>0</td>\n",
              "      <td>0</td>\n",
              "      <td>0</td>\n",
              "      <td>0</td>\n",
              "      <td>0</td>\n",
              "      <td>0</td>\n",
              "      <td>0</td>\n",
              "      <td>0</td>\n",
              "      <td>0</td>\n",
              "      <td>0</td>\n",
              "      <td>0</td>\n",
              "      <td>1</td>\n",
              "      <td>0</td>\n",
              "      <td>0</td>\n",
              "      <td>0</td>\n",
              "      <td>0</td>\n",
              "      <td>0</td>\n",
              "      <td>0</td>\n",
              "      <td>1</td>\n",
              "      <td>0</td>\n",
              "      <td>0</td>\n",
              "    </tr>\n",
              "    <tr>\n",
              "      <th>1</th>\n",
              "      <td>0</td>\n",
              "      <td>0</td>\n",
              "      <td>0</td>\n",
              "      <td>0</td>\n",
              "      <td>0</td>\n",
              "      <td>0</td>\n",
              "      <td>0</td>\n",
              "      <td>0</td>\n",
              "      <td>0</td>\n",
              "      <td>0</td>\n",
              "      <td>0</td>\n",
              "      <td>0</td>\n",
              "      <td>1</td>\n",
              "      <td>0</td>\n",
              "      <td>0</td>\n",
              "      <td>0</td>\n",
              "      <td>0</td>\n",
              "      <td>0</td>\n",
              "      <td>1</td>\n",
              "      <td>0</td>\n",
              "      <td>0</td>\n",
              "    </tr>\n",
              "    <tr>\n",
              "      <th>2</th>\n",
              "      <td>0</td>\n",
              "      <td>0</td>\n",
              "      <td>0</td>\n",
              "      <td>0</td>\n",
              "      <td>0</td>\n",
              "      <td>0</td>\n",
              "      <td>0</td>\n",
              "      <td>0</td>\n",
              "      <td>1</td>\n",
              "      <td>0</td>\n",
              "      <td>0</td>\n",
              "      <td>0</td>\n",
              "      <td>0</td>\n",
              "      <td>0</td>\n",
              "      <td>0</td>\n",
              "      <td>0</td>\n",
              "      <td>0</td>\n",
              "      <td>0</td>\n",
              "      <td>1</td>\n",
              "      <td>0</td>\n",
              "      <td>0</td>\n",
              "    </tr>\n",
              "    <tr>\n",
              "      <th>3</th>\n",
              "      <td>0</td>\n",
              "      <td>0</td>\n",
              "      <td>0</td>\n",
              "      <td>0</td>\n",
              "      <td>0</td>\n",
              "      <td>0</td>\n",
              "      <td>0</td>\n",
              "      <td>0</td>\n",
              "      <td>0</td>\n",
              "      <td>0</td>\n",
              "      <td>0</td>\n",
              "      <td>0</td>\n",
              "      <td>1</td>\n",
              "      <td>0</td>\n",
              "      <td>0</td>\n",
              "      <td>0</td>\n",
              "      <td>0</td>\n",
              "      <td>0</td>\n",
              "      <td>1</td>\n",
              "      <td>0</td>\n",
              "      <td>0</td>\n",
              "    </tr>\n",
              "    <tr>\n",
              "      <th>4</th>\n",
              "      <td>0</td>\n",
              "      <td>0</td>\n",
              "      <td>0</td>\n",
              "      <td>0</td>\n",
              "      <td>0</td>\n",
              "      <td>0</td>\n",
              "      <td>0</td>\n",
              "      <td>0</td>\n",
              "      <td>0</td>\n",
              "      <td>0</td>\n",
              "      <td>0</td>\n",
              "      <td>1</td>\n",
              "      <td>0</td>\n",
              "      <td>0</td>\n",
              "      <td>0</td>\n",
              "      <td>0</td>\n",
              "      <td>0</td>\n",
              "      <td>0</td>\n",
              "      <td>1</td>\n",
              "      <td>0</td>\n",
              "      <td>0</td>\n",
              "    </tr>\n",
              "    <tr>\n",
              "      <th>...</th>\n",
              "      <td>...</td>\n",
              "      <td>...</td>\n",
              "      <td>...</td>\n",
              "      <td>...</td>\n",
              "      <td>...</td>\n",
              "      <td>...</td>\n",
              "      <td>...</td>\n",
              "      <td>...</td>\n",
              "      <td>...</td>\n",
              "      <td>...</td>\n",
              "      <td>...</td>\n",
              "      <td>...</td>\n",
              "      <td>...</td>\n",
              "      <td>...</td>\n",
              "      <td>...</td>\n",
              "      <td>...</td>\n",
              "      <td>...</td>\n",
              "      <td>...</td>\n",
              "      <td>...</td>\n",
              "      <td>...</td>\n",
              "      <td>...</td>\n",
              "    </tr>\n",
              "    <tr>\n",
              "      <th>886</th>\n",
              "      <td>0</td>\n",
              "      <td>0</td>\n",
              "      <td>0</td>\n",
              "      <td>0</td>\n",
              "      <td>0</td>\n",
              "      <td>0</td>\n",
              "      <td>0</td>\n",
              "      <td>0</td>\n",
              "      <td>0</td>\n",
              "      <td>0</td>\n",
              "      <td>0</td>\n",
              "      <td>0</td>\n",
              "      <td>0</td>\n",
              "      <td>0</td>\n",
              "      <td>1</td>\n",
              "      <td>0</td>\n",
              "      <td>0</td>\n",
              "      <td>0</td>\n",
              "      <td>1</td>\n",
              "      <td>0</td>\n",
              "      <td>0</td>\n",
              "    </tr>\n",
              "    <tr>\n",
              "      <th>887</th>\n",
              "      <td>0</td>\n",
              "      <td>0</td>\n",
              "      <td>0</td>\n",
              "      <td>0</td>\n",
              "      <td>0</td>\n",
              "      <td>0</td>\n",
              "      <td>0</td>\n",
              "      <td>0</td>\n",
              "      <td>1</td>\n",
              "      <td>0</td>\n",
              "      <td>0</td>\n",
              "      <td>0</td>\n",
              "      <td>0</td>\n",
              "      <td>0</td>\n",
              "      <td>0</td>\n",
              "      <td>0</td>\n",
              "      <td>0</td>\n",
              "      <td>1</td>\n",
              "      <td>0</td>\n",
              "      <td>0</td>\n",
              "      <td>0</td>\n",
              "    </tr>\n",
              "    <tr>\n",
              "      <th>888</th>\n",
              "      <td>0</td>\n",
              "      <td>0</td>\n",
              "      <td>0</td>\n",
              "      <td>0</td>\n",
              "      <td>0</td>\n",
              "      <td>0</td>\n",
              "      <td>0</td>\n",
              "      <td>0</td>\n",
              "      <td>1</td>\n",
              "      <td>0</td>\n",
              "      <td>0</td>\n",
              "      <td>0</td>\n",
              "      <td>0</td>\n",
              "      <td>0</td>\n",
              "      <td>0</td>\n",
              "      <td>0</td>\n",
              "      <td>0</td>\n",
              "      <td>0</td>\n",
              "      <td>0</td>\n",
              "      <td>0</td>\n",
              "      <td>0</td>\n",
              "    </tr>\n",
              "    <tr>\n",
              "      <th>889</th>\n",
              "      <td>0</td>\n",
              "      <td>0</td>\n",
              "      <td>0</td>\n",
              "      <td>0</td>\n",
              "      <td>0</td>\n",
              "      <td>0</td>\n",
              "      <td>0</td>\n",
              "      <td>0</td>\n",
              "      <td>0</td>\n",
              "      <td>0</td>\n",
              "      <td>0</td>\n",
              "      <td>1</td>\n",
              "      <td>0</td>\n",
              "      <td>0</td>\n",
              "      <td>0</td>\n",
              "      <td>0</td>\n",
              "      <td>0</td>\n",
              "      <td>0</td>\n",
              "      <td>1</td>\n",
              "      <td>0</td>\n",
              "      <td>0</td>\n",
              "    </tr>\n",
              "    <tr>\n",
              "      <th>890</th>\n",
              "      <td>0</td>\n",
              "      <td>0</td>\n",
              "      <td>0</td>\n",
              "      <td>0</td>\n",
              "      <td>0</td>\n",
              "      <td>0</td>\n",
              "      <td>0</td>\n",
              "      <td>0</td>\n",
              "      <td>0</td>\n",
              "      <td>0</td>\n",
              "      <td>0</td>\n",
              "      <td>1</td>\n",
              "      <td>0</td>\n",
              "      <td>0</td>\n",
              "      <td>0</td>\n",
              "      <td>0</td>\n",
              "      <td>0</td>\n",
              "      <td>0</td>\n",
              "      <td>1</td>\n",
              "      <td>0</td>\n",
              "      <td>0</td>\n",
              "    </tr>\n",
              "  </tbody>\n",
              "</table>\n",
              "<p>891 rows × 21 columns</p>\n",
              "</div>"
            ],
            "text/plain": [
              "     Title_ Capt  Title_ Col  ...  age_bins_40-60  age_bins_60+\n",
              "0              0           0  ...               0             0\n",
              "1              0           0  ...               0             0\n",
              "2              0           0  ...               0             0\n",
              "3              0           0  ...               0             0\n",
              "4              0           0  ...               0             0\n",
              "..           ...         ...  ...             ...           ...\n",
              "886            0           0  ...               0             0\n",
              "887            0           0  ...               0             0\n",
              "888            0           0  ...               0             0\n",
              "889            0           0  ...               0             0\n",
              "890            0           0  ...               0             0\n",
              "\n",
              "[891 rows x 21 columns]"
            ]
          },
          "metadata": {
            "tags": []
          },
          "execution_count": 30
        }
      ]
    },
    {
      "cell_type": "markdown",
      "metadata": {
        "id": "CkYXhaZ32g_m"
      },
      "source": [
        "---\n",
        "\n",
        "### `SECTION 4:`\n",
        "\n",
        "---\n",
        "\n",
        "***Now, we will read the demand forecast data which contains week wise units sold of different products and stores.***\n",
        "\n",
        "---"
      ]
    },
    {
      "cell_type": "code",
      "metadata": {
        "id": "7fYL48982g_n"
      },
      "source": [
        "# read the demand forecast data\n",
        "demand_forecast_data = pd.read_csv('demand_forecast.csv')"
      ],
      "execution_count": 3,
      "outputs": []
    },
    {
      "cell_type": "code",
      "metadata": {
        "colab": {
          "base_uri": "https://localhost:8080/",
          "height": 204
        },
        "id": "fVxP8NTz2g_p",
        "outputId": "20a266c4-c599-45cc-cc9a-09106265bb94"
      },
      "source": [
        "# view the top rows of the data\n",
        "demand_forecast_data.head()"
      ],
      "execution_count": 4,
      "outputs": [
        {
          "output_type": "execute_result",
          "data": {
            "text/html": [
              "<div>\n",
              "<style scoped>\n",
              "    .dataframe tbody tr th:only-of-type {\n",
              "        vertical-align: middle;\n",
              "    }\n",
              "\n",
              "    .dataframe tbody tr th {\n",
              "        vertical-align: top;\n",
              "    }\n",
              "\n",
              "    .dataframe thead th {\n",
              "        text-align: right;\n",
              "    }\n",
              "</style>\n",
              "<table border=\"1\" class=\"dataframe\">\n",
              "  <thead>\n",
              "    <tr style=\"text-align: right;\">\n",
              "      <th></th>\n",
              "      <th>record_ID</th>\n",
              "      <th>week</th>\n",
              "      <th>store_id</th>\n",
              "      <th>sku_id</th>\n",
              "      <th>total_price</th>\n",
              "      <th>base_price</th>\n",
              "      <th>is_featured_sku</th>\n",
              "      <th>is_display_sku</th>\n",
              "      <th>units_sold</th>\n",
              "    </tr>\n",
              "  </thead>\n",
              "  <tbody>\n",
              "    <tr>\n",
              "      <th>0</th>\n",
              "      <td>1</td>\n",
              "      <td>17/01/11</td>\n",
              "      <td>8091</td>\n",
              "      <td>216418</td>\n",
              "      <td>99.0375</td>\n",
              "      <td>111.8625</td>\n",
              "      <td>0</td>\n",
              "      <td>0</td>\n",
              "      <td>20</td>\n",
              "    </tr>\n",
              "    <tr>\n",
              "      <th>1</th>\n",
              "      <td>2</td>\n",
              "      <td>17/01/11</td>\n",
              "      <td>8091</td>\n",
              "      <td>216419</td>\n",
              "      <td>99.0375</td>\n",
              "      <td>99.0375</td>\n",
              "      <td>0</td>\n",
              "      <td>0</td>\n",
              "      <td>28</td>\n",
              "    </tr>\n",
              "    <tr>\n",
              "      <th>2</th>\n",
              "      <td>3</td>\n",
              "      <td>17/01/11</td>\n",
              "      <td>8091</td>\n",
              "      <td>216425</td>\n",
              "      <td>133.9500</td>\n",
              "      <td>133.9500</td>\n",
              "      <td>0</td>\n",
              "      <td>0</td>\n",
              "      <td>19</td>\n",
              "    </tr>\n",
              "    <tr>\n",
              "      <th>3</th>\n",
              "      <td>4</td>\n",
              "      <td>17/01/11</td>\n",
              "      <td>8091</td>\n",
              "      <td>216233</td>\n",
              "      <td>133.9500</td>\n",
              "      <td>133.9500</td>\n",
              "      <td>0</td>\n",
              "      <td>0</td>\n",
              "      <td>44</td>\n",
              "    </tr>\n",
              "    <tr>\n",
              "      <th>4</th>\n",
              "      <td>5</td>\n",
              "      <td>17/01/11</td>\n",
              "      <td>8091</td>\n",
              "      <td>217390</td>\n",
              "      <td>141.0750</td>\n",
              "      <td>141.0750</td>\n",
              "      <td>0</td>\n",
              "      <td>0</td>\n",
              "      <td>52</td>\n",
              "    </tr>\n",
              "  </tbody>\n",
              "</table>\n",
              "</div>"
            ],
            "text/plain": [
              "   record_ID      week  store_id  ...  is_featured_sku  is_display_sku  units_sold\n",
              "0          1  17/01/11      8091  ...                0               0          20\n",
              "1          2  17/01/11      8091  ...                0               0          28\n",
              "2          3  17/01/11      8091  ...                0               0          19\n",
              "3          4  17/01/11      8091  ...                0               0          44\n",
              "4          5  17/01/11      8091  ...                0               0          52\n",
              "\n",
              "[5 rows x 9 columns]"
            ]
          },
          "metadata": {
            "tags": []
          },
          "execution_count": 4
        }
      ]
    },
    {
      "cell_type": "code",
      "metadata": {
        "id": "16mJ2qK_2g_r"
      },
      "source": [
        "# convert the week column to date time\n",
        "demand_forecast_data['week'] = pd.to_datetime(demand_forecast_data.week)"
      ],
      "execution_count": 5,
      "outputs": []
    },
    {
      "cell_type": "markdown",
      "metadata": {
        "id": "6YAMLTks2g_s"
      },
      "source": [
        "---\n",
        "\n",
        "***16. Create new feature `average_units_sold`. Take the average of units sold of a particular `store_id` and `sku_id` and create feature as `average_units_sold`***\n",
        "\n",
        "---"
      ]
    },
    {
      "cell_type": "code",
      "metadata": {
        "colab": {
          "base_uri": "https://localhost:8080/",
          "height": 204
        },
        "id": "nB_sAreE2g_t",
        "outputId": "c5605115-f62b-4f8d-94af-9008f57238aa"
      },
      "source": [
        "# write your code here\n",
        "demand_forecast_data[\"average_units_sold\"]=demand_forecast_data.groupby([\"store_id\",\"sku_id\"])[\"units_sold\"].transform('mean')\n",
        "demand_forecast_data.head()\n"
      ],
      "execution_count": 6,
      "outputs": [
        {
          "output_type": "execute_result",
          "data": {
            "text/html": [
              "<div>\n",
              "<style scoped>\n",
              "    .dataframe tbody tr th:only-of-type {\n",
              "        vertical-align: middle;\n",
              "    }\n",
              "\n",
              "    .dataframe tbody tr th {\n",
              "        vertical-align: top;\n",
              "    }\n",
              "\n",
              "    .dataframe thead th {\n",
              "        text-align: right;\n",
              "    }\n",
              "</style>\n",
              "<table border=\"1\" class=\"dataframe\">\n",
              "  <thead>\n",
              "    <tr style=\"text-align: right;\">\n",
              "      <th></th>\n",
              "      <th>record_ID</th>\n",
              "      <th>week</th>\n",
              "      <th>store_id</th>\n",
              "      <th>sku_id</th>\n",
              "      <th>total_price</th>\n",
              "      <th>base_price</th>\n",
              "      <th>is_featured_sku</th>\n",
              "      <th>is_display_sku</th>\n",
              "      <th>units_sold</th>\n",
              "      <th>average_units_sold</th>\n",
              "    </tr>\n",
              "  </thead>\n",
              "  <tbody>\n",
              "    <tr>\n",
              "      <th>0</th>\n",
              "      <td>1</td>\n",
              "      <td>2011-01-17</td>\n",
              "      <td>8091</td>\n",
              "      <td>216418</td>\n",
              "      <td>99.0375</td>\n",
              "      <td>111.8625</td>\n",
              "      <td>0</td>\n",
              "      <td>0</td>\n",
              "      <td>20</td>\n",
              "      <td>26.376923</td>\n",
              "    </tr>\n",
              "    <tr>\n",
              "      <th>1</th>\n",
              "      <td>2</td>\n",
              "      <td>2011-01-17</td>\n",
              "      <td>8091</td>\n",
              "      <td>216419</td>\n",
              "      <td>99.0375</td>\n",
              "      <td>99.0375</td>\n",
              "      <td>0</td>\n",
              "      <td>0</td>\n",
              "      <td>28</td>\n",
              "      <td>28.307692</td>\n",
              "    </tr>\n",
              "    <tr>\n",
              "      <th>2</th>\n",
              "      <td>3</td>\n",
              "      <td>2011-01-17</td>\n",
              "      <td>8091</td>\n",
              "      <td>216425</td>\n",
              "      <td>133.9500</td>\n",
              "      <td>133.9500</td>\n",
              "      <td>0</td>\n",
              "      <td>0</td>\n",
              "      <td>19</td>\n",
              "      <td>25.669231</td>\n",
              "    </tr>\n",
              "    <tr>\n",
              "      <th>3</th>\n",
              "      <td>4</td>\n",
              "      <td>2011-01-17</td>\n",
              "      <td>8091</td>\n",
              "      <td>216233</td>\n",
              "      <td>133.9500</td>\n",
              "      <td>133.9500</td>\n",
              "      <td>0</td>\n",
              "      <td>0</td>\n",
              "      <td>44</td>\n",
              "      <td>29.107692</td>\n",
              "    </tr>\n",
              "    <tr>\n",
              "      <th>4</th>\n",
              "      <td>5</td>\n",
              "      <td>2011-01-17</td>\n",
              "      <td>8091</td>\n",
              "      <td>217390</td>\n",
              "      <td>141.0750</td>\n",
              "      <td>141.0750</td>\n",
              "      <td>0</td>\n",
              "      <td>0</td>\n",
              "      <td>52</td>\n",
              "      <td>29.469231</td>\n",
              "    </tr>\n",
              "  </tbody>\n",
              "</table>\n",
              "</div>"
            ],
            "text/plain": [
              "   record_ID       week  ...  units_sold  average_units_sold\n",
              "0          1 2011-01-17  ...          20           26.376923\n",
              "1          2 2011-01-17  ...          28           28.307692\n",
              "2          3 2011-01-17  ...          19           25.669231\n",
              "3          4 2011-01-17  ...          44           29.107692\n",
              "4          5 2011-01-17  ...          52           29.469231\n",
              "\n",
              "[5 rows x 10 columns]"
            ]
          },
          "metadata": {
            "tags": []
          },
          "execution_count": 6
        }
      ]
    },
    {
      "cell_type": "markdown",
      "metadata": {
        "id": "CZ5RBGlJ2g_v"
      },
      "source": [
        "---\n",
        "\n",
        "***17. Create a new feature `unique_sju_id`. Find the number of unique sku ids for the store ids and create a feature.***\n",
        "\n",
        "---"
      ]
    },
    {
      "cell_type": "code",
      "metadata": {
        "colab": {
          "base_uri": "https://localhost:8080/",
          "height": 204
        },
        "id": "fyFmsxA32g_v",
        "outputId": "3bdd303c-c1c2-40b0-93f0-d41eae028508"
      },
      "source": [
        "# write your code here\n",
        "demand_forecast_data[\"unique_sju_id\"]=demand_forecast_data.groupby([\"store_id\"])[\"sku_id\"].transform('nunique')\n",
        "demand_forecast_data.head()"
      ],
      "execution_count": 7,
      "outputs": [
        {
          "output_type": "execute_result",
          "data": {
            "text/html": [
              "<div>\n",
              "<style scoped>\n",
              "    .dataframe tbody tr th:only-of-type {\n",
              "        vertical-align: middle;\n",
              "    }\n",
              "\n",
              "    .dataframe tbody tr th {\n",
              "        vertical-align: top;\n",
              "    }\n",
              "\n",
              "    .dataframe thead th {\n",
              "        text-align: right;\n",
              "    }\n",
              "</style>\n",
              "<table border=\"1\" class=\"dataframe\">\n",
              "  <thead>\n",
              "    <tr style=\"text-align: right;\">\n",
              "      <th></th>\n",
              "      <th>record_ID</th>\n",
              "      <th>week</th>\n",
              "      <th>store_id</th>\n",
              "      <th>sku_id</th>\n",
              "      <th>total_price</th>\n",
              "      <th>base_price</th>\n",
              "      <th>is_featured_sku</th>\n",
              "      <th>is_display_sku</th>\n",
              "      <th>units_sold</th>\n",
              "      <th>average_units_sold</th>\n",
              "      <th>unique_sju_id</th>\n",
              "    </tr>\n",
              "  </thead>\n",
              "  <tbody>\n",
              "    <tr>\n",
              "      <th>0</th>\n",
              "      <td>1</td>\n",
              "      <td>2011-01-17</td>\n",
              "      <td>8091</td>\n",
              "      <td>216418</td>\n",
              "      <td>99.0375</td>\n",
              "      <td>111.8625</td>\n",
              "      <td>0</td>\n",
              "      <td>0</td>\n",
              "      <td>20</td>\n",
              "      <td>26.376923</td>\n",
              "      <td>9</td>\n",
              "    </tr>\n",
              "    <tr>\n",
              "      <th>1</th>\n",
              "      <td>2</td>\n",
              "      <td>2011-01-17</td>\n",
              "      <td>8091</td>\n",
              "      <td>216419</td>\n",
              "      <td>99.0375</td>\n",
              "      <td>99.0375</td>\n",
              "      <td>0</td>\n",
              "      <td>0</td>\n",
              "      <td>28</td>\n",
              "      <td>28.307692</td>\n",
              "      <td>9</td>\n",
              "    </tr>\n",
              "    <tr>\n",
              "      <th>2</th>\n",
              "      <td>3</td>\n",
              "      <td>2011-01-17</td>\n",
              "      <td>8091</td>\n",
              "      <td>216425</td>\n",
              "      <td>133.9500</td>\n",
              "      <td>133.9500</td>\n",
              "      <td>0</td>\n",
              "      <td>0</td>\n",
              "      <td>19</td>\n",
              "      <td>25.669231</td>\n",
              "      <td>9</td>\n",
              "    </tr>\n",
              "    <tr>\n",
              "      <th>3</th>\n",
              "      <td>4</td>\n",
              "      <td>2011-01-17</td>\n",
              "      <td>8091</td>\n",
              "      <td>216233</td>\n",
              "      <td>133.9500</td>\n",
              "      <td>133.9500</td>\n",
              "      <td>0</td>\n",
              "      <td>0</td>\n",
              "      <td>44</td>\n",
              "      <td>29.107692</td>\n",
              "      <td>9</td>\n",
              "    </tr>\n",
              "    <tr>\n",
              "      <th>4</th>\n",
              "      <td>5</td>\n",
              "      <td>2011-01-17</td>\n",
              "      <td>8091</td>\n",
              "      <td>217390</td>\n",
              "      <td>141.0750</td>\n",
              "      <td>141.0750</td>\n",
              "      <td>0</td>\n",
              "      <td>0</td>\n",
              "      <td>52</td>\n",
              "      <td>29.469231</td>\n",
              "      <td>9</td>\n",
              "    </tr>\n",
              "  </tbody>\n",
              "</table>\n",
              "</div>"
            ],
            "text/plain": [
              "   record_ID       week  ...  average_units_sold  unique_sju_id\n",
              "0          1 2011-01-17  ...           26.376923              9\n",
              "1          2 2011-01-17  ...           28.307692              9\n",
              "2          3 2011-01-17  ...           25.669231              9\n",
              "3          4 2011-01-17  ...           29.107692              9\n",
              "4          5 2011-01-17  ...           29.469231              9\n",
              "\n",
              "[5 rows x 11 columns]"
            ]
          },
          "metadata": {
            "tags": []
          },
          "execution_count": 7
        }
      ]
    },
    {
      "cell_type": "markdown",
      "metadata": {
        "id": "kel1QTSf2g_x"
      },
      "source": [
        "---\n",
        "\n",
        "***18. We often split the data into train and test part. In time-series data, we generally keep last few weeks data as the test part and rest of the data as the train part. Define a function `get_train_test_split` which takes the parameter `number_of_weeks`. It will return the train and test dataframe based on the number of weeks pased in the parameter.***\n",
        "\n",
        "----"
      ]
    },
    {
      "cell_type": "code",
      "metadata": {
        "id": "I_rmyZod2g_y"
      },
      "source": [
        "# write your code here\n",
        "\n",
        "def get_train_test_split(train_percent):\n",
        "    \n",
        "    demand_forecast_data['mask'] = np.random.randn(len(demand_forecast_data))\n",
        "\n",
        "    train_df = demand_forecast_data[demand_forecast_data['mask'] <= train_percent]\n",
        "    test_df = demand_forecast_data[demand_forecast_data['mask'] > (1-train_percent)]\n",
        "\n",
        "    return train_df, test_df"
      ],
      "execution_count": 8,
      "outputs": []
    },
    {
      "cell_type": "code",
      "metadata": {
        "colab": {
          "base_uri": "https://localhost:8080/"
        },
        "id": "DDvBIGsH2g_z",
        "outputId": "358d45ed-cd75-4c89-dc1e-a98445538c14"
      },
      "source": [
        "train, test = get_train_test_split(0.6)\n",
        "print(len(demand_forecast_data), len(train), len(test))"
      ],
      "execution_count": 9,
      "outputs": [
        {
          "output_type": "stream",
          "text": [
            "150150 109010 51706\n"
          ],
          "name": "stdout"
        }
      ]
    },
    {
      "cell_type": "markdown",
      "metadata": {
        "id": "thr7c_ML2g_1"
      },
      "source": [
        "---\n",
        "\n",
        "***19. Create a directory name `store_wise_data`. Now, split the data `demand_forecast_data` store-wise and store in the separate `csv` file for each store id present in the data. for example: data with store_id 8091 will be saved in `8091.csv` in the `store_wise_data` folder.***\n",
        "\n",
        "---"
      ]
    },
    {
      "cell_type": "code",
      "metadata": {
        "id": "HvK7kWPR2g_1"
      },
      "source": [
        "#store_wise_data\n",
        "!mkdir store_wise_data\n",
        "for (store_id), group in demand_forecast_data.groupby(['store_id']):\n",
        "    group.to_csv(f'store_wise_data/{store_id}.csv',index=False)\n",
        "    \n",
        "\n"
      ],
      "execution_count": 10,
      "outputs": []
    },
    {
      "cell_type": "code",
      "metadata": {
        "id": "eKL66KtUtMZ7"
      },
      "source": [
        "#reading all the files and combining them in a single data frame\n",
        "import glob\n",
        "import pandas as pd\n",
        "\n",
        "# list to store data frames\n",
        "data_frame_list_store = []\n",
        "\n",
        "# iterate through each folder\n",
        "for file in glob.glob('store_wise_data/*'):\n",
        "  data_frame_list_store.append(pd.read_csv(file))"
      ],
      "execution_count": 23,
      "outputs": []
    },
    {
      "cell_type": "code",
      "metadata": {
        "id": "byUv2JrutOox"
      },
      "source": [
        "# concatenate the dataframes\n",
        "final_data_store = pd.concat(data_frame_list_store)"
      ],
      "execution_count": 24,
      "outputs": []
    },
    {
      "cell_type": "code",
      "metadata": {
        "colab": {
          "base_uri": "https://localhost:8080/",
          "height": 204
        },
        "id": "omRps1JYtQeE",
        "outputId": "d5c0e267-1ccc-40a9-8420-c6032d89c1a8"
      },
      "source": [
        "final_data_store.head()"
      ],
      "execution_count": 25,
      "outputs": [
        {
          "output_type": "execute_result",
          "data": {
            "text/html": [
              "<div>\n",
              "<style scoped>\n",
              "    .dataframe tbody tr th:only-of-type {\n",
              "        vertical-align: middle;\n",
              "    }\n",
              "\n",
              "    .dataframe tbody tr th {\n",
              "        vertical-align: top;\n",
              "    }\n",
              "\n",
              "    .dataframe thead th {\n",
              "        text-align: right;\n",
              "    }\n",
              "</style>\n",
              "<table border=\"1\" class=\"dataframe\">\n",
              "  <thead>\n",
              "    <tr style=\"text-align: right;\">\n",
              "      <th></th>\n",
              "      <th>record_ID</th>\n",
              "      <th>week</th>\n",
              "      <th>store_id</th>\n",
              "      <th>sku_id</th>\n",
              "      <th>total_price</th>\n",
              "      <th>base_price</th>\n",
              "      <th>is_featured_sku</th>\n",
              "      <th>is_display_sku</th>\n",
              "      <th>units_sold</th>\n",
              "      <th>average_units_sold</th>\n",
              "      <th>unique_sju_id</th>\n",
              "      <th>mask</th>\n",
              "    </tr>\n",
              "  </thead>\n",
              "  <tbody>\n",
              "    <tr>\n",
              "      <th>0</th>\n",
              "      <td>1155</td>\n",
              "      <td>2011-01-17</td>\n",
              "      <td>9632</td>\n",
              "      <td>216418</td>\n",
              "      <td>84.0750</td>\n",
              "      <td>84.0750</td>\n",
              "      <td>0</td>\n",
              "      <td>0</td>\n",
              "      <td>33</td>\n",
              "      <td>28.738462</td>\n",
              "      <td>14</td>\n",
              "      <td>0.077516</td>\n",
              "    </tr>\n",
              "    <tr>\n",
              "      <th>1</th>\n",
              "      <td>1156</td>\n",
              "      <td>2011-01-17</td>\n",
              "      <td>9632</td>\n",
              "      <td>216419</td>\n",
              "      <td>84.7875</td>\n",
              "      <td>84.7875</td>\n",
              "      <td>0</td>\n",
              "      <td>0</td>\n",
              "      <td>26</td>\n",
              "      <td>24.876923</td>\n",
              "      <td>14</td>\n",
              "      <td>1.144011</td>\n",
              "    </tr>\n",
              "    <tr>\n",
              "      <th>2</th>\n",
              "      <td>1157</td>\n",
              "      <td>2011-01-17</td>\n",
              "      <td>9632</td>\n",
              "      <td>300021</td>\n",
              "      <td>84.0750</td>\n",
              "      <td>84.0750</td>\n",
              "      <td>0</td>\n",
              "      <td>0</td>\n",
              "      <td>16</td>\n",
              "      <td>15.969231</td>\n",
              "      <td>14</td>\n",
              "      <td>1.675738</td>\n",
              "    </tr>\n",
              "    <tr>\n",
              "      <th>3</th>\n",
              "      <td>1158</td>\n",
              "      <td>2011-01-17</td>\n",
              "      <td>9632</td>\n",
              "      <td>300291</td>\n",
              "      <td>93.3375</td>\n",
              "      <td>105.4500</td>\n",
              "      <td>0</td>\n",
              "      <td>0</td>\n",
              "      <td>14</td>\n",
              "      <td>13.584615</td>\n",
              "      <td>14</td>\n",
              "      <td>0.311741</td>\n",
              "    </tr>\n",
              "    <tr>\n",
              "      <th>4</th>\n",
              "      <td>1159</td>\n",
              "      <td>2011-01-17</td>\n",
              "      <td>9632</td>\n",
              "      <td>216425</td>\n",
              "      <td>120.4125</td>\n",
              "      <td>120.4125</td>\n",
              "      <td>0</td>\n",
              "      <td>0</td>\n",
              "      <td>10</td>\n",
              "      <td>15.361538</td>\n",
              "      <td>14</td>\n",
              "      <td>-0.415722</td>\n",
              "    </tr>\n",
              "  </tbody>\n",
              "</table>\n",
              "</div>"
            ],
            "text/plain": [
              "   record_ID        week  store_id  ...  average_units_sold  unique_sju_id      mask\n",
              "0       1155  2011-01-17      9632  ...           28.738462             14  0.077516\n",
              "1       1156  2011-01-17      9632  ...           24.876923             14  1.144011\n",
              "2       1157  2011-01-17      9632  ...           15.969231             14  1.675738\n",
              "3       1158  2011-01-17      9632  ...           13.584615             14  0.311741\n",
              "4       1159  2011-01-17      9632  ...           15.361538             14 -0.415722\n",
              "\n",
              "[5 rows x 12 columns]"
            ]
          },
          "metadata": {
            "tags": []
          },
          "execution_count": 25
        }
      ]
    },
    {
      "cell_type": "markdown",
      "metadata": {
        "id": "PMg7PKz12g_3"
      },
      "source": [
        "---\n",
        "\n",
        "***20. You have created a directory `store_wise_data` in the last question. Now, use the glob library and read all the files present in that directory and combine them in a single dataframe. Create a new directory `sku_id_wise_data` and this time you have to split the data `sku_id` wise and store it in a separate `csv` file as you did in the last step in the `sku_id_wise_data` directory.***\n",
        "\n",
        "---"
      ]
    },
    {
      "cell_type": "code",
      "metadata": {
        "id": "A3Hkitp02g_3"
      },
      "source": [
        "#sku_id_wise_data\n",
        "!mkdir sku_id_wise_data\n",
        "for (sku_id), group in demand_forecast_data.groupby(['sku_id']):\n",
        "    group.to_csv(f'sku_id_wise_data/{sku_id}.csv',index=False)\n"
      ],
      "execution_count": 11,
      "outputs": []
    },
    {
      "cell_type": "code",
      "metadata": {
        "id": "BWmyA0z42g_5"
      },
      "source": [
        "#reading all the files and combining them in a single data frame\n",
        "import glob\n",
        "import pandas as pd\n",
        "\n",
        "# list to store data frames\n",
        "data_frame_list_sku = []\n",
        "\n",
        "# iterate through each folder\n",
        "for file in glob.glob('sku_id_wise_data/*'):\n",
        "  data_frame_list_sku.append(pd.read_csv(file))\n",
        "    \n"
      ],
      "execution_count": 26,
      "outputs": []
    },
    {
      "cell_type": "code",
      "metadata": {
        "id": "mCOwEp_QqRQR"
      },
      "source": [
        "# concatenate the dataframes\n",
        "final_data_sku = pd.concat(data_frame_list_sku)"
      ],
      "execution_count": 27,
      "outputs": []
    },
    {
      "cell_type": "code",
      "metadata": {
        "colab": {
          "base_uri": "https://localhost:8080/",
          "height": 204
        },
        "id": "H4M4KAMorqNX",
        "outputId": "1a93e7cf-869a-4174-eb4a-9d78adc6dad1"
      },
      "source": [
        "final_data_sku.head()"
      ],
      "execution_count": 28,
      "outputs": [
        {
          "output_type": "execute_result",
          "data": {
            "text/html": [
              "<div>\n",
              "<style scoped>\n",
              "    .dataframe tbody tr th:only-of-type {\n",
              "        vertical-align: middle;\n",
              "    }\n",
              "\n",
              "    .dataframe tbody tr th {\n",
              "        vertical-align: top;\n",
              "    }\n",
              "\n",
              "    .dataframe thead th {\n",
              "        text-align: right;\n",
              "    }\n",
              "</style>\n",
              "<table border=\"1\" class=\"dataframe\">\n",
              "  <thead>\n",
              "    <tr style=\"text-align: right;\">\n",
              "      <th></th>\n",
              "      <th>record_ID</th>\n",
              "      <th>week</th>\n",
              "      <th>store_id</th>\n",
              "      <th>sku_id</th>\n",
              "      <th>total_price</th>\n",
              "      <th>base_price</th>\n",
              "      <th>is_featured_sku</th>\n",
              "      <th>is_display_sku</th>\n",
              "      <th>units_sold</th>\n",
              "      <th>average_units_sold</th>\n",
              "      <th>unique_sju_id</th>\n",
              "      <th>mask</th>\n",
              "    </tr>\n",
              "  </thead>\n",
              "  <tbody>\n",
              "    <tr>\n",
              "      <th>0</th>\n",
              "      <td>66</td>\n",
              "      <td>2011-01-17</td>\n",
              "      <td>8094</td>\n",
              "      <td>679023</td>\n",
              "      <td>178.1250</td>\n",
              "      <td>205.9125</td>\n",
              "      <td>0</td>\n",
              "      <td>0</td>\n",
              "      <td>10</td>\n",
              "      <td>13.369231</td>\n",
              "      <td>24</td>\n",
              "      <td>-0.593264</td>\n",
              "    </tr>\n",
              "    <tr>\n",
              "      <th>1</th>\n",
              "      <td>91</td>\n",
              "      <td>2011-01-17</td>\n",
              "      <td>8063</td>\n",
              "      <td>679023</td>\n",
              "      <td>183.1125</td>\n",
              "      <td>183.1125</td>\n",
              "      <td>0</td>\n",
              "      <td>0</td>\n",
              "      <td>8</td>\n",
              "      <td>9.169231</td>\n",
              "      <td>19</td>\n",
              "      <td>-0.983366</td>\n",
              "    </tr>\n",
              "    <tr>\n",
              "      <th>2</th>\n",
              "      <td>236</td>\n",
              "      <td>2011-01-17</td>\n",
              "      <td>8317</td>\n",
              "      <td>679023</td>\n",
              "      <td>178.1250</td>\n",
              "      <td>178.1250</td>\n",
              "      <td>0</td>\n",
              "      <td>0</td>\n",
              "      <td>15</td>\n",
              "      <td>24.776923</td>\n",
              "      <td>20</td>\n",
              "      <td>1.145644</td>\n",
              "    </tr>\n",
              "    <tr>\n",
              "      <th>3</th>\n",
              "      <td>429</td>\n",
              "      <td>2011-01-17</td>\n",
              "      <td>8869</td>\n",
              "      <td>679023</td>\n",
              "      <td>178.1250</td>\n",
              "      <td>205.9125</td>\n",
              "      <td>0</td>\n",
              "      <td>1</td>\n",
              "      <td>28</td>\n",
              "      <td>28.207692</td>\n",
              "      <td>16</td>\n",
              "      <td>0.948450</td>\n",
              "    </tr>\n",
              "    <tr>\n",
              "      <th>4</th>\n",
              "      <td>526</td>\n",
              "      <td>2011-01-17</td>\n",
              "      <td>9092</td>\n",
              "      <td>679023</td>\n",
              "      <td>182.4000</td>\n",
              "      <td>182.4000</td>\n",
              "      <td>0</td>\n",
              "      <td>0</td>\n",
              "      <td>10</td>\n",
              "      <td>16.853846</td>\n",
              "      <td>19</td>\n",
              "      <td>0.601363</td>\n",
              "    </tr>\n",
              "  </tbody>\n",
              "</table>\n",
              "</div>"
            ],
            "text/plain": [
              "   record_ID        week  store_id  ...  average_units_sold  unique_sju_id      mask\n",
              "0         66  2011-01-17      8094  ...           13.369231             24 -0.593264\n",
              "1         91  2011-01-17      8063  ...            9.169231             19 -0.983366\n",
              "2        236  2011-01-17      8317  ...           24.776923             20  1.145644\n",
              "3        429  2011-01-17      8869  ...           28.207692             16  0.948450\n",
              "4        526  2011-01-17      9092  ...           16.853846             19  0.601363\n",
              "\n",
              "[5 rows x 12 columns]"
            ]
          },
          "metadata": {
            "tags": []
          },
          "execution_count": 28
        }
      ]
    }
  ]
}